{
 "cells": [
  {
   "cell_type": "markdown",
   "id": "7b0ed312-50fc-42c1-b616-9995720e9666",
   "metadata": {},
   "source": [
    "## Notebook to explore the performance of different toy models of superposition across various sparsity levels\n",
    "\n",
    "Toy models: \n",
    "1. Simple - ReLU(x)\n",
    "2. Simple - Relu(x) (handcoded, Lucius)\n",
    "3. Apollo: Residual + Embedding\n",
    "4. Anthropic: abs(x)\n",
    "\n",
    "Sparsity levels: \n",
    "\n",
    "\n",
    "Other info: "
   ]
  },
  {
   "cell_type": "code",
   "execution_count": 1,
   "id": "a8dcb1ff-55e8-42a3-ae53-b1d517a1f8a9",
   "metadata": {},
   "outputs": [],
   "source": [
    "\"\"\"Notebook settings and imports.\"\"\"\n",
    "\n",
    "%load_ext autoreload\n",
    "%autoreload 2\n",
    "# %flow mode reactive\n",
    "\n",
    "import os\n",
    "\n",
    "from dataclasses import dataclass, field\n",
    "from typing import Callable, List, Optional, Tuple, Union\n",
    "\n",
    "import numpy as np\n",
    "import torch as t\n",
    "\n",
    "from einops import asnumpy, einsum, rearrange, reduce, repeat, pack, parse_shape, unpack\n",
    "from einops.layers.torch import Rearrange, Reduce\n",
    "from jaxtyping import Float, Int\n",
    "from matplotlib import pyplot as plt\n",
    "from plotly import express as px\n",
    "from plotly import graph_objects as go\n",
    "from plotly import io as pio\n",
    "from rich import print as rprint\n",
    "from torch import nn, optim\n",
    "from torch.nn import functional as F\n",
    "from tqdm.notebook import tqdm\n",
    "\n",
    "from toy_cis import plot\n",
    "from toy_cis.models import CisConfig, Cis\n",
    "from toy_cis.util import threshold_matrix"
   ]
  },
  {
   "cell_type": "code",
   "execution_count": 2,
   "id": "55b77a58-21ee-4c66-b193-9a59b86a1356",
   "metadata": {},
   "outputs": [],
   "source": [
    "\"\"\"Set KMP_DUPLICATE_LIB_OK=TRUE to avoid MKL errors when plotting with mpl\"\"\"\n",
    "\n",
    "os.environ[\"KMP_DUPLICATE_LIB_OK\"] = \"True\""
   ]
  },
  {
   "cell_type": "code",
   "execution_count": 3,
   "id": "b267c12c-04e2-4c91-8005-8cfeb8249fc3",
   "metadata": {},
   "outputs": [],
   "source": [
    "\"\"\"Create functions for generating batches, loss, and training.\"\"\"\n",
    "\n",
    "# Create function for generating batch of `x` and `y_true` data\n",
    "def gen_batch(model: Cis, batch_sz: int) -> (\n",
    "    tuple[Float[t.Tensor, \"batch inst feat\"], Float[t.Tensor, \"batch inst feat\"]]\n",
    "):\n",
    "    \"\"\"Generates a batch of x=(sparse feature vals on [-1, 1]) and y=abs(x).\"\"\"\n",
    "\n",
    "    # Randomly generate features vals, and for each, randomly set which samples are non-zero\n",
    "    x = t.rand(batch_sz, model.cfg.n_instances, model.cfg.n_feat) * 2 - 1  # [-1, 1]\n",
    "    is_active = t.rand(batch_sz, model.cfg.n_instances, model.cfg.n_feat) < (1 - model.s)\n",
    "    x *= is_active\n",
    "    return x, F.relu(x)\n",
    "\n",
    "def loss_fn(y, y_true, i):\n",
    "    return reduce((y - y_true) ** 2 * i, \"batch inst feat -> \", \"mean\")\n",
    "\n",
    "def train(\n",
    "    model: Cis,\n",
    "    batch_sz: int,\n",
    "    loss_fn: Callable,\n",
    "    optimizer: optim.Optimizer,\n",
    "    n_steps: int,\n",
    "    logging_freq: int,\n",
    ") -> List[Float]:\n",
    "    \"\"\"Trains the model for `n_steps` steps, logging loss every `logging_freq` steps.\"\"\"    \n",
    "    losses = []\n",
    "\n",
    "    pbar = tqdm(range(n_steps), desc=\"Training\")\n",
    "    for step in pbar:\n",
    "        x, y_true = gen_batch(model, batch_sz)\n",
    "        y = model.forward(x)\n",
    "        loss = loss_fn(y, y_true, model.i)\n",
    "        optimizer.zero_grad()\n",
    "        loss.backward()\n",
    "        optimizer.step()\n",
    "        # Log progress\n",
    "        if step % logging_freq == 0 or (step + 1 == n_steps):\n",
    "            losses.append(loss.item())\n",
    "            pbar.set_postfix({\"loss\": f\"{loss.item():.4f}\"})\n",
    "    \n",
    "    return losses"
   ]
  },
  {
   "cell_type": "code",
   "execution_count": null,
   "id": "485b14f9-7b73-4c2b-94bb-62bb6be6ebb5",
   "metadata": {},
   "outputs": [],
   "source": [
    "# 1. Load model 1 = Simple ReLU(x)\n"
   ]
  },
  {
   "cell_type": "code",
   "execution_count": null,
   "id": "727169bf-772d-4f42-ba2a-e3ea02692952",
   "metadata": {},
   "outputs": [],
   "source": []
  }
 ],
 "metadata": {
  "kernelspec": {
   "display_name": "Python (Pixi)",
   "language": "python",
   "name": "pixi-env"
  },
  "language_info": {
   "codemirror_mode": {
    "name": "ipython",
    "version": 3
   },
   "file_extension": ".py",
   "mimetype": "text/x-python",
   "name": "python",
   "nbconvert_exporter": "python",
   "pygments_lexer": "ipython3",
   "version": "3.12.0"
  }
 },
 "nbformat": 4,
 "nbformat_minor": 5
}
