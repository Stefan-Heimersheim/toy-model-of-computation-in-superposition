{
 "cells": [
  {
   "cell_type": "markdown",
   "id": "7b0ed312-50fc-42c1-b616-9995720e9666",
   "metadata": {},
   "source": [
    "## Notebook to explore the performance of different toy models of superposition across various sparsity levels\n",
    "\n",
    "Toy models: \n",
    "1. Simple - ReLU(x)\n",
    "2. Simple - Relu(x) (handcoded, Lucius)\n",
    "3. Apollo: Residual + Embedding\n",
    "4. Anthropic: abs(x)\n",
    "\n",
    "Sparsity levels: \n",
    "\n"
   ]
  },
  {
   "cell_type": "code",
   "execution_count": 1,
   "id": "a8dcb1ff-55e8-42a3-ae53-b1d517a1f8a9",
   "metadata": {},
   "outputs": [],
   "source": [
    "\"\"\"Notebook settings and imports.\"\"\"\n",
    "\n",
    "%load_ext autoreload\n",
    "%autoreload 2\n",
    "# %flow mode reactive\n",
    "\n",
    "import os\n",
    "\n",
    "from dataclasses import dataclass, field\n",
    "from typing import Callable, List, Optional, Tuple, Union\n",
    "\n",
    "import matplotlib as mpl\n",
    "import numpy as np\n",
    "import pandas as pd\n",
    "import torch as t\n",
    "\n",
    "from einops import asnumpy, einsum, rearrange, reduce, repeat, pack, parse_shape, unpack\n",
    "from einops.layers.torch import Rearrange, Reduce\n",
    "from jaxtyping import Float, Int\n",
    "from matplotlib import pyplot as plt\n",
    "from plotly import express as px\n",
    "from plotly import graph_objects as go\n",
    "from plotly import io as pio\n",
    "from rich import print as rprint\n",
    "import seaborn as sns\n",
    "from torch import nn, optim, Tensor\n",
    "from torch.nn import functional as F\n",
    "from tqdm.notebook import tqdm\n",
    "\n",
    "from toy_cis.models import CisConfig, Cis\n",
    "from toy_cis.plot import plot_weight_bars, plot_input_output_response\n",
    "from toy_cis.util import threshold_matrix, in_out_response\n"
   ]
  },
  {
   "cell_type": "code",
   "execution_count": 2,
   "id": "55b77a58-21ee-4c66-b193-9a59b86a1356",
   "metadata": {},
   "outputs": [],
   "source": [
    "\"\"\"Set KMP_DUPLICATE_LIB_OK=TRUE to avoid MKL errors when plotting with mpl\"\"\"\n",
    "\n",
    "os.environ[\"KMP_DUPLICATE_LIB_OK\"] = \"True\"\n",
    "plt.rcParams.update({\"font.size\": 16})"
   ]
  },
  {
   "cell_type": "code",
   "execution_count": 3,
   "id": "33c33b8d-b44a-46fd-9e7d-6e0dbc0b7882",
   "metadata": {},
   "outputs": [
    {
     "name": "stdout",
     "output_type": "stream",
     "text": [
      "device_name='NVIDIA A40'\n"
     ]
    }
   ],
   "source": [
    "\"\"\"Set torch device.\"\"\"\n",
    "\n",
    "device = t.device(\"cuda\" if t.cuda.is_available() else \"cpu\")\n",
    "# device = t.device(\"cpu\")  # small toy models have lower loss and are faster via cpu\n",
    "device_name = t.cuda.get_device_name(0) if t.cuda.is_available() else \"cpu\"\n",
    "print(f\"{device_name=}\")"
   ]
  },
  {
   "cell_type": "code",
   "execution_count": 4,
   "id": "485b14f9-7b73-4c2b-94bb-62bb6be6ebb5",
   "metadata": {},
   "outputs": [],
   "source": [
    "\"\"\"Create functions for generating batches, loss, and training.\"\"\"\n",
    "\n",
    "def gen_batch(model: Cis, batch_sz: int, sparsity: float | Float[Tensor, \"inst feat\"]) -> (\n",
    "    tuple[Float[Tensor, \"batch inst feat\"], Float[Tensor, \"batch inst feat\"]]\n",
    "):\n",
    "    \"\"\"Generates a batch of x, y data.\"\"\"\n",
    "    # Randomly generate features vals, and for each, randomly set which samples are non-zero\n",
    "    x = t.rand(batch_sz, model.cfg.n_instances, model.cfg.n_feat, device=device) * 2 - 1  # [-1, 1]\n",
    "    is_active = (\n",
    "        t.rand(batch_sz, model.cfg.n_instances, model.cfg.n_feat, device=device) < (1 - sparsity)\n",
    "    )\n",
    "    x *= is_active\n",
    "    return x, t.relu(x)\n",
    "\n",
    "def loss_fn(y, y_true, i):\n",
    "    return reduce((y - y_true) ** 2 * i, \"batch inst feat -> \", \"mean\")\n",
    "\n",
    "def train(\n",
    "    model: Cis,\n",
    "    batch_sz: int,\n",
    "    feat_sparsity: float | Float[Tensor, \"inst feat\"],\n",
    "    feat_importance: float | Float[Tensor, \"inst feat\"],\n",
    "    loss_fn: Callable,\n",
    "    optimizer: optim.Optimizer,\n",
    "    n_steps: int,\n",
    "    logging_freq: int,\n",
    ") -> List[Float]:\n",
    "    \"\"\"Trains the model for `n_steps` steps, logging loss every `logging_freq` steps.\"\"\"    \n",
    "    losses = []\n",
    "\n",
    "    pbar = tqdm(range(n_steps), desc=\"Training\")\n",
    "    for step in pbar:\n",
    "        x, y_true = gen_batch(model, batch_sz, feat_sparsity)\n",
    "        y = model.forward(x)\n",
    "        loss = loss_fn(y, y_true, feat_importance)\n",
    "        optimizer.zero_grad()\n",
    "        loss.backward()\n",
    "        optimizer.step()\n",
    "        # Log progress\n",
    "        if step % logging_freq == 0 or (step + 1 == n_steps):\n",
    "            losses.append(loss.item())\n",
    "            pbar.set_postfix({\"loss\": f\"{loss.item():.4f}\"})\n",
    "    \n",
    "    return losses"
   ]
  },
  {
   "cell_type": "markdown",
   "id": "42c75eac-2a3c-4497-8ccb-b6c26762b5dd",
   "metadata": {},
   "source": [
    "## 1. Simple ReLU\n",
    "\n",
    "MLP that computes: $y = ReLU(x)$\n",
    "\n",
    "Architecture: 100 input features for 50 neurons in a single layer. \n",
    "\n",
    "Loss function: MSE (not weighted for now)\n",
    "\n",
    "Input: 100 features with a sparsity S =0.99, meaning that any given feature has p = 0.01 of being active, where `x = rand(-1,1)`"
   ]
  },
  {
   "cell_type": "code",
   "execution_count": 5,
   "id": "638961c1-68b9-4726-bc67-ea051ec73b75",
   "metadata": {},
   "outputs": [],
   "source": [
    "# 1. Training functions\n",
    "\"\"\"Create functions for generating batches, loss, and training.\"\"\"\n",
    "\n",
    "def gen_batch(model: Cis, batch_sz: int, sparsity: float | Float[Tensor, \"inst feat\"]) -> (\n",
    "    tuple[Float[Tensor, \"batch inst feat\"], Float[Tensor, \"batch inst feat\"]]\n",
    "):\n",
    "    \"\"\"Generates a batch of x, y data.\"\"\"\n",
    "    # Randomly generate features vals, and for each, randomly set which samples are non-zero\n",
    "    x = t.rand(batch_sz, model.cfg.n_instances, model.cfg.n_feat, device=device) * 2 - 1  # [-1, 1]\n",
    "    is_active = (\n",
    "        t.rand(batch_sz, model.cfg.n_instances, model.cfg.n_feat, device=device) < (1 - sparsity)\n",
    "    )\n",
    "    x *= is_active\n",
    "    return x, t.relu(x)\n",
    "\n",
    "def loss_fn(y, y_true, i):\n",
    "    return reduce((y - y_true) ** 2 * i, \"batch inst feat -> \", \"mean\")\n",
    "\n",
    "def train(\n",
    "    model: Cis,\n",
    "    batch_sz: int,\n",
    "    feat_sparsity: float | Float[Tensor, \"inst feat\"],\n",
    "    feat_importance: float | Float[Tensor, \"inst feat\"],\n",
    "    loss_fn: Callable,\n",
    "    optimizer: optim.Optimizer,\n",
    "    n_steps: int,\n",
    "    logging_freq: int,\n",
    ") -> List[Float]:\n",
    "    \"\"\"Trains the model for `n_steps` steps, logging loss every `logging_freq` steps.\"\"\"    \n",
    "    losses = []\n",
    "\n",
    "    pbar = tqdm(range(n_steps), desc=\"Training\")\n",
    "    for step in pbar:\n",
    "        x, y_true = gen_batch(model, batch_sz, feat_sparsity)\n",
    "        y = model.forward(x)\n",
    "        loss = loss_fn(y, y_true, feat_importance)\n",
    "        optimizer.zero_grad()\n",
    "        loss.backward()\n",
    "        optimizer.step()\n",
    "        # Log progress\n",
    "        if step % logging_freq == 0 or (step + 1 == n_steps):\n",
    "            losses.append(loss.item())\n",
    "            pbar.set_postfix({\"loss\": f\"{loss.item():.4f}\"})\n",
    "    \n",
    "    return losses"
   ]
  },
  {
   "cell_type": "code",
   "execution_count": 6,
   "id": "8e812841-f8ef-48e7-8806-6268ae008745",
   "metadata": {},
   "outputs": [
    {
     "data": {
      "application/vnd.jupyter.widget-view+json": {
       "model_id": "236f5918d1564ff39970778b9ba14d80",
       "version_major": 2,
       "version_minor": 0
      },
      "text/plain": [
       "Training:   0%|          | 0/4000 [00:00<?, ?it/s]"
      ]
     },
     "metadata": {},
     "output_type": "display_data"
    },
    {
     "data": {
      "text/plain": [
       "[0.0018724738620221615,\n",
       " 0.0017675018170848489,\n",
       " 0.0015262296656146646,\n",
       " 0.0011891120811924338,\n",
       " 0.001295091351494193,\n",
       " 0.001054489752277732,\n",
       " 0.0011139509733766317,\n",
       " 0.0011164451716467738,\n",
       " 0.001081735361367464,\n",
       " 0.0009670417639426887,\n",
       " 0.0009623620426282287,\n",
       " 0.0008315122686326504,\n",
       " 0.0008614838006906211,\n",
       " 0.0008801102521829307,\n",
       " 0.0010021221823990345,\n",
       " 0.0010031010024249554,\n",
       " 0.0008006187854334712,\n",
       " 0.0009799371473491192,\n",
       " 0.0009596689487807453,\n",
       " 0.0008488265448249876,\n",
       " 0.0010375436395406723,\n",
       " 0.0009562857449054718,\n",
       " 0.0008385468972846866,\n",
       " 0.0008176357951015234,\n",
       " 0.0009036229457706213,\n",
       " 0.000937286822590977,\n",
       " 0.0010942103108391166,\n",
       " 0.0006826024618931115,\n",
       " 0.0009997113374993205,\n",
       " 0.0008676826837472618,\n",
       " 0.0008691250113770366,\n",
       " 0.0009758271626196802,\n",
       " 0.0008181261946447194,\n",
       " 0.0008643023320473731,\n",
       " 0.0008664511842653155,\n",
       " 0.0010142810642719269,\n",
       " 0.000766179000493139,\n",
       " 0.0007042789366096258,\n",
       " 0.0007522827363573015,\n",
       " 0.0009528941591270268,\n",
       " 0.0008323946385644376,\n",
       " 0.0009435506071895361,\n",
       " 0.0009278325014747679,\n",
       " 0.0009674869361333549,\n",
       " 0.0008314359001815319,\n",
       " 0.000816873274743557,\n",
       " 0.0010912902653217316,\n",
       " 0.000937562610488385,\n",
       " 0.0009088876540772617,\n",
       " 0.0011395635083317757,\n",
       " 0.0010689361952245235,\n",
       " 0.0009456381085328758,\n",
       " 0.0009143396746367216,\n",
       " 0.0008906510192900896,\n",
       " 0.0008211110252887011,\n",
       " 0.0006984628853388131,\n",
       " 0.0008347409893758595,\n",
       " 0.00097790383733809,\n",
       " 0.0008861504029482603,\n",
       " 0.0008827786077745259,\n",
       " 0.0008642353932373226,\n",
       " 0.0008250356186181307,\n",
       " 0.0009699201327748597,\n",
       " 0.0009528489899821579,\n",
       " 0.001134842517785728,\n",
       " 0.0008902968256734312,\n",
       " 0.0008982053259387612,\n",
       " 0.0008421700913459063,\n",
       " 0.0008753534057177603,\n",
       " 0.0009146292577497661,\n",
       " 0.0009158871835097671,\n",
       " 0.0011550188064575195,\n",
       " 0.0009171125129796565,\n",
       " 0.0009311733883805573,\n",
       " 0.0008499141549691558,\n",
       " 0.0009374800138175488,\n",
       " 0.0009059004951268435,\n",
       " 0.0008758019539527595,\n",
       " 0.0008557876572012901,\n",
       " 0.0010158864315599203,\n",
       " 0.0007912283763289452,\n",
       " 0.0006346771842800081,\n",
       " 0.0008890773169696331,\n",
       " 0.0008443948463536799,\n",
       " 0.0007483195513486862,\n",
       " 0.0008906318107619882,\n",
       " 0.0007974509499035776,\n",
       " 0.0010352282552048564,\n",
       " 0.0009385683224536479,\n",
       " 0.000908285437617451,\n",
       " 0.0011107632890343666,\n",
       " 0.0011445654090493917,\n",
       " 0.0007999066729098558,\n",
       " 0.000697135750669986,\n",
       " 0.0008076732628978789,\n",
       " 0.0007739943102933466,\n",
       " 0.0008599479333497584,\n",
       " 0.0008869424345903099,\n",
       " 0.0008140450809150934,\n",
       " 0.000667087035253644,\n",
       " 0.0008252796833403409]"
      ]
     },
     "metadata": {},
     "output_type": "display_data"
    }
   ],
   "source": [
    "layer_act_fns = [t.relu, lambda x: x]\n",
    "\n",
    "simple_relu_cfg = CisConfig(\n",
    "    n_instances=1,\n",
    "    n_feat=100,\n",
    "    n_hidden=50,\n",
    "    act_fn=layer_act_fns,\n",
    "    b1=None,\n",
    "    b2=None,\n",
    ")\n",
    "\n",
    "relu_cis = Cis(simple_relu_cfg, device=device)\n",
    "\n",
    "batch_sz = 256\n",
    "feat_sparsity = 0.99\n",
    "feat_importance = 1\n",
    "n_steps = 4000\n",
    "logging_freq = n_steps // 100\n",
    "optimizer = t.optim.Adam(relu_cis.parameters())\n",
    "\n",
    "losses = train(\n",
    "    relu_cis,\n",
    "    batch_sz,\n",
    "    feat_sparsity,\n",
    "    feat_importance,\n",
    "    loss_fn,\n",
    "    optimizer,\n",
    "    n_steps,\n",
    "    logging_freq\n",
    ")\n",
    "display(losses)"
   ]
  },
  {
   "cell_type": "code",
   "execution_count": 38,
   "id": "98e2245b-b7a8-442b-961d-5f23d82120a0",
   "metadata": {},
   "outputs": [
    {
     "data": {
      "application/vnd.jupyter.widget-view+json": {
       "model_id": "edcee749907d41d29991c2b0bb30f7ba",
       "version_major": 2,
       "version_minor": 0
      },
      "text/plain": [
       "Training over sparsities:   0%|          | 0/28 [00:00<?, ?it/s]"
      ]
     },
     "metadata": {},
     "output_type": "display_data"
    },
    {
     "data": {
      "application/vnd.jupyter.widget-view+json": {
       "model_id": "4228e8a1225a4ee381a2c19b30235305",
       "version_major": 2,
       "version_minor": 0
      },
      "text/plain": [
       "Training:   0%|          | 0/4000 [00:00<?, ?it/s]"
      ]
     },
     "metadata": {},
     "output_type": "display_data"
    },
    {
     "data": {
      "application/vnd.jupyter.widget-view+json": {
       "model_id": "01b88b752dab45fc8471880b2e4142e1",
       "version_major": 2,
       "version_minor": 0
      },
      "text/plain": [
       "Training:   0%|          | 0/4000 [00:00<?, ?it/s]"
      ]
     },
     "metadata": {},
     "output_type": "display_data"
    },
    {
     "data": {
      "application/vnd.jupyter.widget-view+json": {
       "model_id": "b1d23c17975848de86fe61f1045256ef",
       "version_major": 2,
       "version_minor": 0
      },
      "text/plain": [
       "Training:   0%|          | 0/4000 [00:00<?, ?it/s]"
      ]
     },
     "metadata": {},
     "output_type": "display_data"
    },
    {
     "data": {
      "application/vnd.jupyter.widget-view+json": {
       "model_id": "5f68d0fcc0fe496f8cbbc6908c23a26b",
       "version_major": 2,
       "version_minor": 0
      },
      "text/plain": [
       "Training:   0%|          | 0/4000 [00:00<?, ?it/s]"
      ]
     },
     "metadata": {},
     "output_type": "display_data"
    },
    {
     "data": {
      "application/vnd.jupyter.widget-view+json": {
       "model_id": "110174a6c5244f41b11362327ca6b075",
       "version_major": 2,
       "version_minor": 0
      },
      "text/plain": [
       "Training:   0%|          | 0/4000 [00:00<?, ?it/s]"
      ]
     },
     "metadata": {},
     "output_type": "display_data"
    },
    {
     "data": {
      "application/vnd.jupyter.widget-view+json": {
       "model_id": "d7a8b1a1a3d34fa3822eb3bf28d38ab6",
       "version_major": 2,
       "version_minor": 0
      },
      "text/plain": [
       "Training:   0%|          | 0/4000 [00:00<?, ?it/s]"
      ]
     },
     "metadata": {},
     "output_type": "display_data"
    },
    {
     "data": {
      "application/vnd.jupyter.widget-view+json": {
       "model_id": "97fc18c8b7034d4abee1968653e58ed9",
       "version_major": 2,
       "version_minor": 0
      },
      "text/plain": [
       "Training:   0%|          | 0/4000 [00:00<?, ?it/s]"
      ]
     },
     "metadata": {},
     "output_type": "display_data"
    },
    {
     "data": {
      "application/vnd.jupyter.widget-view+json": {
       "model_id": "755209de5571424489aff83cfbaff413",
       "version_major": 2,
       "version_minor": 0
      },
      "text/plain": [
       "Training:   0%|          | 0/4000 [00:00<?, ?it/s]"
      ]
     },
     "metadata": {},
     "output_type": "display_data"
    },
    {
     "data": {
      "application/vnd.jupyter.widget-view+json": {
       "model_id": "97a65b133b124077b94dc71ac23cebf7",
       "version_major": 2,
       "version_minor": 0
      },
      "text/plain": [
       "Training:   0%|          | 0/4000 [00:00<?, ?it/s]"
      ]
     },
     "metadata": {},
     "output_type": "display_data"
    },
    {
     "data": {
      "application/vnd.jupyter.widget-view+json": {
       "model_id": "67cc29349be441598d6f35944b5a38be",
       "version_major": 2,
       "version_minor": 0
      },
      "text/plain": [
       "Training:   0%|          | 0/4000 [00:00<?, ?it/s]"
      ]
     },
     "metadata": {},
     "output_type": "display_data"
    },
    {
     "data": {
      "application/vnd.jupyter.widget-view+json": {
       "model_id": "a6884d5160834746be983df0e83cb3d5",
       "version_major": 2,
       "version_minor": 0
      },
      "text/plain": [
       "Training:   0%|          | 0/4000 [00:00<?, ?it/s]"
      ]
     },
     "metadata": {},
     "output_type": "display_data"
    },
    {
     "data": {
      "application/vnd.jupyter.widget-view+json": {
       "model_id": "e844f2a682da4b62b773d004e55053b9",
       "version_major": 2,
       "version_minor": 0
      },
      "text/plain": [
       "Training:   0%|          | 0/4000 [00:00<?, ?it/s]"
      ]
     },
     "metadata": {},
     "output_type": "display_data"
    },
    {
     "data": {
      "application/vnd.jupyter.widget-view+json": {
       "model_id": "580b419b161241e9b6e8be6927951fbb",
       "version_major": 2,
       "version_minor": 0
      },
      "text/plain": [
       "Training:   0%|          | 0/4000 [00:00<?, ?it/s]"
      ]
     },
     "metadata": {},
     "output_type": "display_data"
    },
    {
     "data": {
      "application/vnd.jupyter.widget-view+json": {
       "model_id": "7bc4078386794f36b7cd99c4307a7fbf",
       "version_major": 2,
       "version_minor": 0
      },
      "text/plain": [
       "Training:   0%|          | 0/4000 [00:00<?, ?it/s]"
      ]
     },
     "metadata": {},
     "output_type": "display_data"
    },
    {
     "data": {
      "application/vnd.jupyter.widget-view+json": {
       "model_id": "c08a2bb6de1742189b1860c299acec98",
       "version_major": 2,
       "version_minor": 0
      },
      "text/plain": [
       "Training:   0%|          | 0/4000 [00:00<?, ?it/s]"
      ]
     },
     "metadata": {},
     "output_type": "display_data"
    },
    {
     "data": {
      "application/vnd.jupyter.widget-view+json": {
       "model_id": "fb3b1c776f33492fb1497f5d3d70fda7",
       "version_major": 2,
       "version_minor": 0
      },
      "text/plain": [
       "Training:   0%|          | 0/4000 [00:00<?, ?it/s]"
      ]
     },
     "metadata": {},
     "output_type": "display_data"
    },
    {
     "data": {
      "application/vnd.jupyter.widget-view+json": {
       "model_id": "0e45ad3f2aeb4d428891716d6c96137b",
       "version_major": 2,
       "version_minor": 0
      },
      "text/plain": [
       "Training:   0%|          | 0/4000 [00:00<?, ?it/s]"
      ]
     },
     "metadata": {},
     "output_type": "display_data"
    },
    {
     "data": {
      "application/vnd.jupyter.widget-view+json": {
       "model_id": "74f894170bed48bdb0cfbd7475b7c214",
       "version_major": 2,
       "version_minor": 0
      },
      "text/plain": [
       "Training:   0%|          | 0/4000 [00:00<?, ?it/s]"
      ]
     },
     "metadata": {},
     "output_type": "display_data"
    },
    {
     "data": {
      "application/vnd.jupyter.widget-view+json": {
       "model_id": "6943aa7d4d5d4233b474f52ba6440fef",
       "version_major": 2,
       "version_minor": 0
      },
      "text/plain": [
       "Training:   0%|          | 0/4000 [00:00<?, ?it/s]"
      ]
     },
     "metadata": {},
     "output_type": "display_data"
    },
    {
     "data": {
      "application/vnd.jupyter.widget-view+json": {
       "model_id": "96da12d67c294534a9f5bc21d9a45a9f",
       "version_major": 2,
       "version_minor": 0
      },
      "text/plain": [
       "Training:   0%|          | 0/4000 [00:00<?, ?it/s]"
      ]
     },
     "metadata": {},
     "output_type": "display_data"
    },
    {
     "data": {
      "application/vnd.jupyter.widget-view+json": {
       "model_id": "bea5bd1bf2b947df8e2d7889c2d5aece",
       "version_major": 2,
       "version_minor": 0
      },
      "text/plain": [
       "Training:   0%|          | 0/4000 [00:00<?, ?it/s]"
      ]
     },
     "metadata": {},
     "output_type": "display_data"
    },
    {
     "data": {
      "application/vnd.jupyter.widget-view+json": {
       "model_id": "d0da272da5e8428a9072602625067628",
       "version_major": 2,
       "version_minor": 0
      },
      "text/plain": [
       "Training:   0%|          | 0/4000 [00:00<?, ?it/s]"
      ]
     },
     "metadata": {},
     "output_type": "display_data"
    },
    {
     "data": {
      "application/vnd.jupyter.widget-view+json": {
       "model_id": "faaf9a18160546d19d90ff3fa4a18981",
       "version_major": 2,
       "version_minor": 0
      },
      "text/plain": [
       "Training:   0%|          | 0/4000 [00:00<?, ?it/s]"
      ]
     },
     "metadata": {},
     "output_type": "display_data"
    },
    {
     "data": {
      "application/vnd.jupyter.widget-view+json": {
       "model_id": "fdd4ce2fd3e646f29aaad429230205c4",
       "version_major": 2,
       "version_minor": 0
      },
      "text/plain": [
       "Training:   0%|          | 0/4000 [00:00<?, ?it/s]"
      ]
     },
     "metadata": {},
     "output_type": "display_data"
    },
    {
     "data": {
      "application/vnd.jupyter.widget-view+json": {
       "model_id": "ffdc26355b0e416a9b95582eb1bcc00a",
       "version_major": 2,
       "version_minor": 0
      },
      "text/plain": [
       "Training:   0%|          | 0/4000 [00:00<?, ?it/s]"
      ]
     },
     "metadata": {},
     "output_type": "display_data"
    },
    {
     "data": {
      "application/vnd.jupyter.widget-view+json": {
       "model_id": "7bba9d8479c143889224c795b5e21591",
       "version_major": 2,
       "version_minor": 0
      },
      "text/plain": [
       "Training:   0%|          | 0/4000 [00:00<?, ?it/s]"
      ]
     },
     "metadata": {},
     "output_type": "display_data"
    },
    {
     "data": {
      "application/vnd.jupyter.widget-view+json": {
       "model_id": "5d812bfddce9457d9600cc4d99dc6ffa",
       "version_major": 2,
       "version_minor": 0
      },
      "text/plain": [
       "Training:   0%|          | 0/4000 [00:00<?, ?it/s]"
      ]
     },
     "metadata": {},
     "output_type": "display_data"
    },
    {
     "data": {
      "application/vnd.jupyter.widget-view+json": {
       "model_id": "894e3c2f5e9c4e90b3617ef2f307e3ee",
       "version_major": 2,
       "version_minor": 0
      },
      "text/plain": [
       "Training:   0%|          | 0/4000 [00:00<?, ?it/s]"
      ]
     },
     "metadata": {},
     "output_type": "display_data"
    }
   ],
   "source": [
    "\"\"\"Get polysemanticity and loss for set of sparsities.\"\"\"\n",
    "\n",
    "sparsity_low = np.round(np.linspace(0.0,0.8,9),2)\n",
    "sparsity_high = np.round(np.linspace(0.8,0.99,20),2)\n",
    "sparsities = np.unique(np.concatenate((sparsity_low,sparsity_high)))\n",
    "batch_sz = 256\n",
    "feat_importance = 1\n",
    "n_steps = 4000\n",
    "logging_freq = n_steps // 10\n",
    "\n",
    "poly_data = []  # will store all polysemanticity and weight data\n",
    "loss_data = []  # will store mean loss data\n",
    "\n",
    "pbar = tqdm(sparsities, desc=\"Training over sparsities\")\n",
    "for s in pbar:\n",
    "    # Train model\n",
    "    relu_cis = Cis(simple_relu_cfg, device=device).to(device)\n",
    "    optimizer = t.optim.Adam(relu_cis.parameters())\n",
    "    losses = train(\n",
    "        relu_cis,\n",
    "        batch_sz,\n",
    "        s,\n",
    "        feat_importance,\n",
    "        loss_fn,\n",
    "        optimizer,\n",
    "        n_steps,\n",
    "        logging_freq\n",
    "    )\n",
    "\n",
    "    # Get polysemanticity and weight data\n",
    "    W = einsum(\n",
    "        relu_cis.W1, relu_cis.W2, \"inst neuron feature, inst feature neuron-> neuron feature\"\n",
    "    )\n",
    "    W = asnumpy(threshold_matrix(W.squeeze(), threshold=0.001))\n",
    "    \n",
    "    # Calculate weight magnitudes and nonzero fractions\n",
    "    weight_magnitudes = np.abs(W).sum(axis=0)\n",
    "    nonzero_counts = np.count_nonzero(W, axis=0)\n",
    "    frac_nonzero = nonzero_counts / relu_cis.cfg.n_hidden\n",
    "    \n",
    "    # Store polysemanticity and weight data for each feature\n",
    "    for feat_idx in range(relu_cis.cfg.n_feat):\n",
    "        poly_data.append(\n",
    "            {\n",
    "                \"sparsity\": s,\n",
    "                \"feature_idx\": feat_idx,\n",
    "                \"frac_nonzero\": frac_nonzero[feat_idx],\n",
    "                \"weight_magnitude\": weight_magnitudes[feat_idx]\n",
    "            }\n",
    "        )\n",
    "\n",
    "    # Calculate mean loss per feature over a set of examples\n",
    "    n_examples = 100\n",
    "    losses = t.zeros((n_examples, relu_cis.cfg.n_feat), device=device)\n",
    "    with t.no_grad():\n",
    "        for feat in range(relu_cis.cfg.n_feat):\n",
    "            x = t.zeros(\n",
    "                n_examples, \n",
    "                relu_cis.cfg.n_instances, \n",
    "                relu_cis.cfg.n_feat, \n",
    "                device=device\n",
    "            )\n",
    "            x[:, :, feat] = rearrange(t.linspace(-1, 1, n_examples, device=device), \"n -> n 1\")\n",
    "            y_true = t.relu(x)\n",
    "            y = relu_cis.forward(x)\n",
    "            losses[:, feat] = ((y[:, :, feat] - y_true[:, :, feat]) ** 2).ravel()\n",
    "    \n",
    "    mean_losses = asnumpy(reduce(losses, \"example feat -> feat\", \"mean\"))\n",
    "    for feat_idx, val in enumerate(mean_losses):\n",
    "        loss_data.append({\"sparsity\": s, \"feature_idx\": feat_idx, \"mean_loss\": val})"
   ]
  },
  {
   "cell_type": "code",
   "execution_count": 22,
   "id": "3c83dcdc-18d4-40f0-a794-a90b3830cc7c",
   "metadata": {},
   "outputs": [],
   "source": [
    "\"\"\"Import a couple more things for plotting\"\"\"\n",
    "\n",
    "import matplotlib.pyplot as plt\n",
    "from scipy.signal import savgol_filter"
   ]
  },
  {
   "cell_type": "code",
   "execution_count": 40,
   "id": "ef276ab8-773a-46ec-8964-f98896c8e167",
   "metadata": {},
   "outputs": [
    {
     "data": {
      "image/png": "[encoded data removed]",
      "text/plain": [
       "<Figure size 1500x500 with 1 Axes>"
      ]
     },
     "metadata": {},
     "output_type": "display_data"
    }
   ],
   "source": [
    "\"\"\"Plot loss vs sparsity for the simple ReLU model - use 20 datapoints\"\"\"\n",
    "\n",
    "# Convert loss_data to pandas dataframe for ease of plotting with seaborn\n",
    "df_loss = pd.DataFrame(loss_data)\n",
    "\n",
    "# Create figure of all sparsity values\n",
    "fig = plt.figure(figsize=(15, 5))\n",
    "sns.lineplot(data = df_loss, x = \"sparsity\", y = \"mean_loss\")\n",
    "plt.xlabel('Sparsity')\n",
    "plt.xticks(sparsities, fontsize=10, rotation = 90)\n",
    "plt.ylabel('Mean loss')\n",
    "plt.title('Simple ReLU model:loss vs sparsity')\n",
    "plt.show()\n"
   ]
  },
  {
   "cell_type": "code",
   "execution_count": 44,
   "id": "c55d10df-a2a0-46fb-bb3f-ea98bb4904bf",
   "metadata": {},
   "outputs": [
    {
     "data": {
      "image/png": "[encoded data removed]",
      "text/plain": [
       "<Figure size 1200x800 with 1 Axes>"
      ]
     },
     "metadata": {},
     "output_type": "display_data"
    }
   ],
   "source": [
    "# Create figure of high sparsity values\n",
    "fig = plt.figure(figsize=(12, 8))\n",
    "sns.lineplot(data = df_loss, x = \"sparsity\", y = \"mean_loss\")\n",
    "plt.xlabel('Sparsity')\n",
    "plt.xlim(0.79,1)\n",
    "plt.xticks(sparsities[sparsities > 0.75], rotation = 45)\n",
    "plt.ylabel('Mean loss')\n",
    "plt.title('Simple ReLU model - loss vs sparsity')\n",
    "plt.show()"
   ]
  },
  {
   "cell_type": "code",
   "execution_count": null,
   "id": "75b648e2-aa66-47d8-a352-7e295dce62d9",
   "metadata": {},
   "outputs": [],
   "source": []
  }
 ],
 "metadata": {
  "kernelspec": {
   "display_name": "Python (Pixi)",
   "language": "python",
   "name": "pixi-env"
  },
  "language_info": {
   "codemirror_mode": {
    "name": "ipython",
    "version": 3
   },
   "file_extension": ".py",
   "mimetype": "text/x-python",
   "name": "python",
   "nbconvert_exporter": "python",
   "pygments_lexer": "ipython3",
   "version": "3.12.0"
  }
 },
 "nbformat": 4,
 "nbformat_minor": 5
}
