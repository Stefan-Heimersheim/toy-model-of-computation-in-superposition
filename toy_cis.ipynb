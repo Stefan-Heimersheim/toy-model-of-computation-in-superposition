{
 "cells": [
  {
   "cell_type": "markdown",
   "metadata": {},
   "source": [
    "## Create CiS toy model class"
   ]
  },
  {
   "cell_type": "markdown",
   "metadata": {},
   "source": [
    "Model is single hidden layer: x -> n_h -> y  (size of x and y is equal)\n",
    "\n",
    "W1 = (n_h, x), W2 = (y, n_h)\n",
    "x = 3 features (should be able to vary this)\n",
    "y = abs(x) \n",
    "n_h = 2 neurons (should be able to vary this)\n",
    "loss = MSE\n",
    "\n",
    "- Vary the activation function used in each layer (e.g. ReLU or identity, by default, ReLU)\n",
    "\n",
    "- Vary the bias value used in each layer (all equal or specific values)\n",
    "\n",
    "- Vary the feature sparsity (all equal or specific values (e.g. function of index))\n",
    "\n",
    "- Vary the feature importance (all equal or specific values (e.g. function of index))\n",
    "\n",
    "- Vary the loss fn\n",
    "\n",
    "- Optional: Vary optimizer and lr schedule"
   ]
  },
  {
   "cell_type": "code",
   "execution_count": 2,
   "metadata": {},
   "outputs": [],
   "source": [
    "\"\"\"Notebook settings and imports.\"\"\"\n",
    "\n",
    "%load_ext autoreload\n",
    "%autoreload 2\n",
    "# %flow mode reactive\n",
    "\n",
    "import os\n",
    "\n",
    "from dataclasses import dataclass, field\n",
    "from typing import Callable, List, Optional, Tuple, Union\n",
    "\n",
    "import numpy as np\n",
    "import torch as t\n",
    "\n",
    "from einops import asnumpy, einsum, rearrange, reduce, repeat, pack, parse_shape, unpack\n",
    "from einops.layers.torch import Rearrange, Reduce\n",
    "from jaxtyping import Float, Int\n",
    "from matplotlib import pyplot as plt\n",
    "from plotly import express as px\n",
    "from plotly import graph_objects as go\n",
    "from plotly import io as pio\n",
    "from rich import print as rprint\n",
    "from torch import nn, optim\n",
    "from torch.nn import functional as F\n",
    "from tqdm.notebook import tqdm"
   ]
  },
  {
   "cell_type": "code",
   "execution_count": 3,
   "metadata": {},
   "outputs": [],
   "source": [
    "\"\"\"Set KMP_DUPLICATE_LIB_OK=TRUE to avoid MKL errors when plotting with mpl\"\"\"\n",
    "\n",
    "os.environ[\"KMP_DUPLICATE_LIB_OK\"] = \"True\""
   ]
  },
  {
   "cell_type": "code",
   "execution_count": 4,
   "metadata": {},
   "outputs": [],
   "source": [
    "@dataclass\n",
    "class CisConfig:\n",
    "    n_instances: int = 2\n",
    "    n_feat: int = 2\n",
    "    n_hidden: int = 4\n",
    "    act_fn: List[Callable] = field(default_factory=lambda: [F.relu, F.relu])\n",
    "    b1: str | Float[t.Tensor, \"inst hid\"] = field(default_factory=lambda: \"0\")\n",
    "    b2: str | Float[t.Tensor, \"inst hid\"] = field(default_factory=lambda: \"0\")\n",
    "    feat_sparsity: float| t.Tensor = 0\n",
    "    feat_importance: float | t.Tensor = 1.0\n",
    "    optimizer: Callable = t.optim.Adam\n",
    "\n",
    "    def __post_init__(self):\n",
    "        \"\"\"Ensure attribute values are valid.\"\"\"\n",
    "        pass"
   ]
  },
  {
   "cell_type": "code",
   "execution_count": 5,
   "metadata": {},
   "outputs": [],
   "source": [
    "class Cis(nn.Module):\n",
    "    \"\"\"Computation in Superposition toy model.\"\"\"\n",
    "\n",
    "    # Some attribute type hints\n",
    "    W1: Float[t.Tensor, \"inst feat hid\"]\n",
    "    W2: Float[t.Tensor, \"inst hid feat\"]\n",
    "    b1: Float[t.Tensor, \"inst hid\"]\n",
    "    b2: Float[t.Tensor, \"inst feat\"]\n",
    "    s: Float[t.Tensor, \"inst feat\"]  # feature sparsity\n",
    "    i: Float[t.Tensor, \"inst feat\"]  # feature importance\n",
    "\n",
    "\n",
    "    def __init__(self, cfg: CisConfig):\n",
    "        \"\"\"Initializes model params.\"\"\"\n",
    "        super().__init__()\n",
    "        self.cfg = cfg\n",
    "\n",
    "        # Model Weights\n",
    "        self.W1 = nn.Parameter(nn.init.xavier_normal_(t.empty(cfg.n_instances, cfg.n_feat, cfg.n_hidden)))\n",
    "        self.W2 = nn.Parameter(nn.init.xavier_normal_(t.empty(cfg.n_instances, cfg.n_hidden, cfg.n_feat)))\n",
    "\n",
    "        # Model Biases\n",
    "        # self.b1 = nn.Parameter(t.zeros(cfg.n_instances, cfg.n_hidden)) if cfg.b1 == \"0\" else cfg.b1\n",
    "        self.b1 = t.zeros(cfg.n_instances, cfg.n_hidden) if cfg.b1 == \"0\" else cfg.b1\n",
    "        self.b2 = nn.Parameter(t.zeros(cfg.n_instances, cfg.n_feat)) if cfg.b2 == \"0\" else cfg.b2\n",
    "\n",
    "        # Sparsities\n",
    "        if isinstance(cfg.feat_sparsity, float):\n",
    "            self.s = t.full((cfg.n_instances, cfg.n_feat), cfg.feat_sparsity)\n",
    "        else:\n",
    "            self.s = cfg.feat_sparsity\n",
    "\n",
    "        # Importances\n",
    "        if isinstance(self.cfg.feat_importance, float):\n",
    "            self.i = t.full((self.cfg.n_feat,), self.cfg.feat_importance)\n",
    "        elif callable(self.cfg.feat_importance):\n",
    "            self.i = cfg.feat_importance\n",
    "\n",
    "\n",
    "    def gen_batch(self, batch_sz: int) -> Float[t.Tensor, \"batch inst feat\"]:\n",
    "        \"\"\"Generates a batch of data (sparse feature vals on [-1, 1]).\"\"\"\n",
    "\n",
    "        # Randomly generate features vals, and for each, randomly determine which samples are non-zero\n",
    "        x = t.rand(batch_sz, self.cfg.n_instances, self.cfg.n_feat) * 2 - 1  # [-1, 1]\n",
    "        is_active = t.rand(batch_sz, self.cfg.n_instances, self.cfg.n_feat) < (1 - self.s)\n",
    "        \n",
    "        return x * is_active\n",
    "\n",
    "\n",
    "    def forward(\n",
    "        self, x: Float[t.Tensor, \"batch inst feat\"], fx: Callable = t.abs\n",
    "    ) -> Float[t.Tensor, \"\"]:\n",
    "        \"\"\"Runs a forward pass through model returning the loss.\"\"\"\n",
    "\n",
    "        # Hidden layer\n",
    "        h = einsum(x, self.W1, \"batch inst feat, inst feat hid -> batch inst hid\")\n",
    "        h = self.cfg.act_fn[0](h + self.b1)\n",
    "\n",
    "        # Output layer\n",
    "        y = einsum(h, self.W2, \"batch inst hid, inst hid feat -> batch inst feat\")\n",
    "        y = self.cfg.act_fn[1](y + self.b2)\n",
    "\n",
    "        # Compute weighted MSE loss\n",
    "        y_true = fx(x)\n",
    "        loss = reduce(((y - y_true) ** 2 * self.i), \"batch inst feat -> \", \"mean\")\n",
    "\n",
    "        return loss\n",
    "\n",
    "\n",
    "    def optimize(\n",
    "        self, optimizer: t.optim.Optimizer, batch_sz: int, steps: int, logging_freq: int\n",
    "    ):\n",
    "        \"\"\"Optimizes the model.\"\"\"\n",
    "\n",
    "        losses = []\n",
    "        pbar = tqdm(range(steps), desc=\"Training\")\n",
    "\n",
    "        for step in pbar:\n",
    "            x = self.gen_batch(batch_sz)\n",
    "            loss = self.forward(x)\n",
    "            optimizer.zero_grad()\n",
    "            loss.backward()\n",
    "            optimizer.step()\n",
    "            # Log progress\n",
    "            if step % logging_freq == 0 or (step + 1 == steps):\n",
    "                losses.append(loss.item())\n",
    "                pbar.set_postfix({\"loss\": f\"{loss.item():.4f}\"})\n",
    "\n",
    "        return losses"
   ]
  },
  {
   "cell_type": "markdown",
   "metadata": {},
   "source": [
    "## Verify toy model with `n_hidden = 2 * len(x)` learns `abs(x)` function"
   ]
  },
  {
   "cell_type": "markdown",
   "metadata": {},
   "source": [
    "For` len(x) = 3` and `n_hidden = 6`, with this forward pass:\n",
    "\n",
    "$$\n",
    "h = ReLU(W_1x)\n",
    "y' = ReLU(W_2h + b)\n",
    "$$\n",
    "\n",
    "we get something like this:\n",
    "\n",
    "![6 h 3 f learned abs](./assets/x3n6_learned_abs.png)\n"
   ]
  },
  {
   "cell_type": "code",
   "execution_count": 6,
   "metadata": {},
   "outputs": [
    {
     "name": "stdout",
     "output_type": "stream",
     "text": [
      "Model parameters: ['W1', 'W2', 'b2']\n"
     ]
    }
   ],
   "source": [
    "\"\"\"Create model and inspect parameters.\"\"\"\n",
    "\n",
    "config = CisConfig(n_instances=1, n_feat=3, n_hidden=6, feat_sparsity=0, feat_importance=1.0)\n",
    "model = Cis(config)\n",
    "print(\"Model parameters:\", [name for name, _ in model.named_parameters()])"
   ]
  },
  {
   "cell_type": "code",
   "execution_count": 7,
   "metadata": {},
   "outputs": [
    {
     "data": {
      "application/vnd.jupyter.widget-view+json": {
       "model_id": "c0a3119105774129a1c6ad61945be846",
       "version_major": 2,
       "version_minor": 0
      },
      "text/plain": [
       "Training:   0%|          | 0/5000 [00:00<?, ?it/s]"
      ]
     },
     "metadata": {},
     "output_type": "display_data"
    },
    {
     "data": {
      "text/plain": [
       "[0.296283096075058,\n",
       " 0.05185527727007866,\n",
       " 0.030632751062512398,\n",
       " 0.025111226364970207,\n",
       " 0.002691078931093216,\n",
       " 0.0005804027314297855,\n",
       " 7.485123933292925e-05,\n",
       " 1.552878165966831e-05,\n",
       " 2.7697335553966695e-06,\n",
       " 1.1060725455536158e-06,\n",
       " 9.571506325301016e-07]"
      ]
     },
     "execution_count": 7,
     "metadata": {},
     "output_type": "execute_result"
    }
   ],
   "source": [
    "\"\"\"Train model.\"\"\"\n",
    "\n",
    "batch_sz = 128\n",
    "steps = 5000\n",
    "logging_freq = steps // 10\n",
    "\n",
    "model.optimize(t.optim.Adam(model.parameters()), batch_sz, steps, logging_freq)"
   ]
  },
  {
   "cell_type": "code",
   "execution_count": 8,
   "metadata": {},
   "outputs": [
    {
     "name": "stdout",
     "output_type": "stream",
     "text": [
      "model.b1=tensor([[0., 0., 0., 0., 0., 0.]])\n"
     ]
    }
   ],
   "source": [
    "\"\"\"Inspect model parameters.\"\"\"\n",
    "\n",
    "# Ensure bias in layer1 is 0 (shouldn't be learned in this case, to fully replicate the paper)\n",
    "print(f\"{model.b1=}\")"
   ]
  },
  {
   "cell_type": "code",
   "execution_count": null,
   "metadata": {},
   "outputs": [],
   "source": [
    "\"\"\"Create function to visualize weights.\"\"\"\n",
    "\n",
    "def plot_weight_bars(W: t.Tensor) -> plt.Figure:\n",
    "    \"\"\"Plot weights from each hidden neuron as grouped bars across input features.\"\"\"\n",
    "    W = asnumpy(W)\n",
    "    assert len(W.shape) == 2\n",
    "    n_hidden, n_feat = W.shape  # assume weights in shape of layer1 weights\n",
    "    x = np.arange(n_feat)\n",
    "    width = 0.8 / n_hidden\n",
    "    \n",
    "    fig, ax = plt.subplots()\n",
    "    for h in range(n_hidden):\n",
    "        ax.bar(x + h*width - width*n_hidden/2, W[h], width, label=f\"Neuron {h}\")\n",
    "    \n",
    "    ax.set_xlabel(\"Input Features\")\n",
    "    ax.set_ylabel(\"Weight Value\")\n",
    "    ax.legend()\n",
    "    \n",
    "    return fig"
   ]
  },
  {
   "cell_type": "code",
   "execution_count": null,
   "metadata": {},
   "outputs": [
    {
     "name": "stdout",
     "output_type": "stream",
     "text": [
      "model.W1=Parameter containing:\n",
      "tensor([[[ 3.8945e-03, -1.3167e+00,  3.8756e-03,  5.0524e-04,  9.6975e-01,\n",
      "           6.0390e-04],\n",
      "         [ 2.9107e-02, -2.9283e-03,  2.9346e-02, -6.8569e-01, -2.1703e-03,\n",
      "           8.1188e-01],\n",
      "         [ 1.0348e+00,  2.0238e-02, -1.0608e+00,  8.9243e-03,  1.4981e-02,\n",
      "           1.1015e-02]]], requires_grad=True)\n",
      "model.W2=Parameter containing:\n",
      "tensor([[[-1.4964e-02, -1.2895e-02,  9.6710e-01],\n",
      "         [ 7.5967e-01,  5.8329e-04,  2.8594e-03],\n",
      "         [ 1.4389e-02,  1.2567e-02,  9.4342e-01],\n",
      "         [-3.3018e-03,  1.4585e+00,  4.0908e-02],\n",
      "         [ 1.0315e+00, -7.2869e-04, -4.0751e-03],\n",
      "         [ 2.6647e-03,  1.2318e+00, -3.5074e-02]]], requires_grad=True)\n"
     ]
    },
    {
     "data": {
      "text/plain": [
       "Text(0.5, 0.98, 'Layer 2 weights per feature')"
      ]
     },
     "execution_count": 12,
     "metadata": {},
     "output_type": "execute_result"
    },
    {
     "data": {
      "image/png": "[encoded data removed]",
      "text/plain": [
       "<Figure size 640x480 with 1 Axes>"
      ]
     },
     "metadata": {},
     "output_type": "display_data"
    },
    {
     "data": {
      "image/png": "[encoded data removed]",
      "text/plain": [
       "<Figure size 640x480 with 1 Axes>"
      ]
     },
     "metadata": {},
     "output_type": "display_data"
    }
   ],
   "source": [
    "\"\"\"Visualize the learned weights.\"\"\"\n",
    "\n",
    "print(f\"{model.W1=}\")\n",
    "print(f\"{model.W2=}\")\n",
    "\n",
    "fig_w1 = plot_weight_bars(model.W1[0])\n",
    "fig_w1.suptitle(\"Layer 1 weights per feature\")\n",
    "\n",
    "fig_w2 = plot_weight_bars(model.W2[0].T)\n",
    "fig_w2.suptitle(\"Layer 2 weights per feature\")"
   ]
  },
  {
   "cell_type": "markdown",
   "metadata": {},
   "source": [
    "## See if we can learn `abs(x)` with `n_hidden < 2 * len(x)` (CiS)"
   ]
  },
  {
   "cell_type": "markdown",
   "metadata": {},
   "source": []
  }
 ],
 "metadata": {
  "kernelspec": {
   "display_name": "arena_3.0_gpu_jax",
   "language": "python",
   "name": "python3"
  },
  "language_info": {
   "codemirror_mode": {
    "name": "ipython",
    "version": 3
   },
   "file_extension": ".py",
   "mimetype": "text/x-python",
   "name": "python",
   "nbconvert_exporter": "python",
   "pygments_lexer": "ipython3",
   "version": "3.12.7"
  }
 },
 "nbformat": 4,
 "nbformat_minor": 2
}
