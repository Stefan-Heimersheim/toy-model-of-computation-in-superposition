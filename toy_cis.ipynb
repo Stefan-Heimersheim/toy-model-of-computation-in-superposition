{
 "cells": [
  {
   "cell_type": "markdown",
   "metadata": {},
   "source": [
    "Model is single hidden layer: x -> n_h -> y  (size of x and y is equal)\n",
    "\n",
    "W1 = (n_h, x), W2 = (y, n_h)\n",
    "x = 3 features (should be able to vary this)\n",
    "y = abs(x) \n",
    "n_h = 2 neurons (should be able to vary this)\n",
    "loss = MSE\n",
    "\n",
    "- Vary the activation function used in each layer (e.g. ReLU or identity, by default, ReLU)\n",
    "\n",
    "- Vary the bias value used in each layer (all equal or specific values)\n",
    "\n",
    "- Vary the feature sparsity (all equal or specific values (e.g. function of index))\n",
    "\n",
    "- Vary the feature importance (all equal or specific values (e.g. function of index))\n",
    "\n",
    "- Vary the loss fn\n",
    "\n",
    "- Optional: Vary optimizer and lr schedule"
   ]
  },
  {
   "cell_type": "code",
   "execution_count": 62,
   "metadata": {},
   "outputs": [
    {
     "name": "stdout",
     "output_type": "stream",
     "text": [
      "The autoreload extension is already loaded. To reload it, use:\n",
      "  %reload_ext autoreload\n"
     ]
    }
   ],
   "source": [
    "\"\"\"Notebook settings and imports.\"\"\"\n",
    "\n",
    "%load_ext autoreload\n",
    "%autoreload 2\n",
    "# %flow mode reactive\n",
    "\n",
    "import os\n",
    "\n",
    "from dataclasses import dataclass, field\n",
    "from typing import Callable, List, Optional, Tuple, Union\n",
    "\n",
    "import numpy as np\n",
    "import torch as t\n",
    "\n",
    "from einops import asnumpy, einsum, rearrange, reduce, repeat, pack, parse_shape, unpack\n",
    "from einops.layers.torch import Rearrange, Reduce\n",
    "from jaxtyping import Float, Int\n",
    "from matplotlib import pyplot as plt\n",
    "from plotly import express as px\n",
    "from plotly import graph_objects as go\n",
    "from plotly import io as pio\n",
    "from rich import print as rprint\n",
    "from torch import nn, optim\n",
    "from torch.nn import functional as F\n",
    "from tqdm.notebook import tqdm"
   ]
  },
  {
   "cell_type": "code",
   "execution_count": 63,
   "metadata": {},
   "outputs": [],
   "source": [
    "@dataclass\n",
    "class CisConfig:\n",
    "    n_instances: int = 2\n",
    "    n_feat: int = 2\n",
    "    n_hidden: int = 4\n",
    "    act_fn: List[Callable] = field(default_factory=lambda: [F.relu, F.relu])\n",
    "    b1: str | Float[t.Tensor, \"inst hid\"] = field(default_factory=lambda: \"0\")\n",
    "    b2: str | Float[t.Tensor, \"inst hid\"] = field(default_factory=lambda: \"0\")\n",
    "    feat_sparsity: float| t.Tensor = 0\n",
    "    feat_importance: float | t.Tensor = 1.0\n",
    "    optimizer: Callable = t.optim.Adam\n",
    "\n",
    "    def __post_init__(self):\n",
    "        \"\"\"Ensure attribute values are valid.\"\"\"\n",
    "        pass"
   ]
  },
  {
   "cell_type": "code",
   "execution_count": 64,
   "metadata": {},
   "outputs": [],
   "source": [
    "class Cis(nn.Module):\n",
    "    \"\"\"Computation in Superposition toy model.\"\"\"\n",
    "\n",
    "    # Some attribute type hints\n",
    "    W1: Float[t.Tensor, \"inst feat hid\"]\n",
    "    W2: Float[t.Tensor, \"inst hid feat\"]\n",
    "    b1: Float[t.Tensor, \"inst hid\"]\n",
    "    b2: Float[t.Tensor, \"inst feat\"]\n",
    "    s: Float[t.Tensor, \"inst feat\"]  # feature sparsity\n",
    "    i: Float[t.Tensor, \"inst feat\"]  # feature importance\n",
    "\n",
    "\n",
    "    def __init__(self, cfg: CisConfig):\n",
    "        \"\"\"Initializes model params.\"\"\"\n",
    "        super().__init__()\n",
    "        self.cfg = cfg\n",
    "\n",
    "        # Model Weights\n",
    "        self.W1 = nn.Parameter(nn.init.xavier_normal_(t.empty(cfg.n_instances, cfg.n_feat, cfg.n_hidden)))\n",
    "        self.W2 = nn.Parameter(nn.init.xavier_normal_(t.empty(cfg.n_instances, cfg.n_hidden, cfg.n_feat)))\n",
    "\n",
    "        # Model Biases\n",
    "        # self.b1 = nn.Parameter(t.zeros(cfg.n_instances, cfg.n_hidden)) if cfg.b1 == \"0\" else cfg.b1\n",
    "        self.b1 = t.zeros(cfg.n_instances, cfg.n_hidden) if cfg.b1 == \"0\" else cfg.b1\n",
    "        self.b2 = nn.Parameter(t.zeros(cfg.n_instances, cfg.n_feat)) if cfg.b2 == \"0\" else cfg.b2\n",
    "\n",
    "        # Sparsities\n",
    "        if isinstance(cfg.feat_sparsity, float):\n",
    "            self.s = t.full((cfg.n_instances, cfg.n_feat), cfg.feat_sparsity)\n",
    "        else:\n",
    "            self.s = cfg.feat_sparsity\n",
    "\n",
    "        # Importances\n",
    "        if isinstance(self.cfg.feat_importance, float):\n",
    "            self.i = t.full((self.cfg.n_feat,), self.cfg.feat_importance)\n",
    "        elif callable(self.cfg.feat_importance):\n",
    "            self.i = cfg.feat_importance\n",
    "\n",
    "\n",
    "    def gen_batch(self, batch_sz: int) -> Float[t.Tensor, \"batch inst feat\"]:\n",
    "        \"\"\"Generates a batch of data (sparse feature vals on [-1, 1]).\"\"\"\n",
    "\n",
    "        # Randomly generate features vals, and for each, randomly determine which samples are non-zero\n",
    "        x = t.rand(batch_sz, self.cfg.n_instances, self.cfg.n_feat) * 2 - 1  # [-1, 1]\n",
    "        is_active = t.rand(batch_sz, self.cfg.n_instances, self.cfg.n_feat) < (1 - self.s)\n",
    "        \n",
    "        return x * is_active\n",
    "\n",
    "\n",
    "    def forward(\n",
    "        self, x: Float[t.Tensor, \"batch inst feat\"], fx: Callable = t.abs\n",
    "    ) -> Float[t.Tensor, \"\"]:\n",
    "        \"\"\"Runs a forward pass through model returning the loss.\"\"\"\n",
    "\n",
    "        # Hidden layer\n",
    "        h = einsum(x, self.W1, \"batch inst feat, inst feat hid -> batch inst hid\")\n",
    "        h = self.cfg.act_fn[0](h + self.b1)\n",
    "\n",
    "        # Output layer\n",
    "        y = einsum(h, self.W2, \"batch inst hid, inst hid feat -> batch inst feat\")\n",
    "        y = self.cfg.act_fn[1](y + self.b2)\n",
    "\n",
    "        # Compute weighted MSE loss\n",
    "        y_true = fx(x)\n",
    "        loss = reduce(((y - y_true) ** 2 * self.i), \"batch inst feat -> \", \"mean\")\n",
    "\n",
    "        return loss\n",
    "\n",
    "\n",
    "    def optimize(\n",
    "        self, optimizer: t.optim.Optimizer, batch_sz: int, steps: int, logging_freq: int\n",
    "    ):\n",
    "        \"\"\"Optimizes the model.\"\"\"\n",
    "\n",
    "        losses = []\n",
    "        pbar = tqdm(range(steps), desc=\"Training\")\n",
    "\n",
    "        for step in pbar:\n",
    "            x = self.gen_batch(batch_sz)\n",
    "            loss = self.forward(x)\n",
    "            optimizer.zero_grad()\n",
    "            loss.backward()\n",
    "            optimizer.step()\n",
    "            # Log progress\n",
    "            if step % logging_freq == 0 or (step + 1 == steps):\n",
    "                losses.append(loss.item())\n",
    "                pbar.set_postfix({\"loss\": f\"{loss.item():.4f}\"})\n",
    "\n",
    "        return losses"
   ]
  },
  {
   "cell_type": "code",
   "execution_count": null,
   "metadata": {},
   "outputs": [
    {
     "data": {
      "application/vnd.jupyter.widget-view+json": {
       "model_id": "f69f2922baba42ac9312f2273abf352a",
       "version_major": 2,
       "version_minor": 0
      },
      "text/plain": [
       "Training:   0%|          | 0/10000 [00:00<?, ?it/s]"
      ]
     },
     "metadata": {},
     "output_type": "display_data"
    },
    {
     "data": {
      "text/plain": [
       "[0.099042609333992,\n",
       " 0.06484565883874893,\n",
       " 0.06373614072799683,\n",
       " 0.06357651948928833,\n",
       " 0.061400171369314194,\n",
       " 0.06281690299510956,\n",
       " 0.06355323642492294,\n",
       " 0.06354673206806183,\n",
       " 0.06392452120780945,\n",
       " 0.0648106187582016,\n",
       " 0.065337173640728]"
      ]
     },
     "execution_count": 141,
     "metadata": {},
     "output_type": "execute_result"
    }
   ],
   "source": [
    "config = CisConfig(n_instances=1, n_feat=100, n_hidden=40, feat_sparsity=0.7, feat_importance=1.0)\n",
    "model = Cis(config)\n",
    "batch_sz = 128\n",
    "steps = 10000\n",
    "logging_freq = steps // 10\n",
    "\n",
    "model.optimize(t.optim.Adam(model.parameters()), batch_sz, steps, logging_freq)"
   ]
  },
  {
   "cell_type": "code",
   "execution_count": 184,
   "metadata": {},
   "outputs": [],
   "source": [
    "def count_monosemantic_neurons(matrix, threshold=0.01):\n",
    "    \"\"\"\n",
    "    Counts the number of elements which are more than the threshold (in absolute value) in each column.\n",
    "    \n",
    "    Args:\n",
    "        matrix: Input numpy array\n",
    "        threshold: Values above this threshold will be counted (default: 0.01)\n",
    "    \n",
    "    Returns:\n",
    "        numpy array with counts of elements above the threshold for each column\n",
    "    \"\"\"\n",
    "    # Compute the count of elements above the threshold for each column\n",
    "    counts = np.sum(np.abs(matrix) > threshold, axis=0)\n",
    "    c1s = len([n for n in counts if n == 1])\n",
    "    #print(counts, c1s)\n",
    "    return c1s"
   ]
  },
  {
   "cell_type": "code",
   "execution_count": 185,
   "metadata": {},
   "outputs": [],
   "source": [
    "def threshold_matrix(matrix, threshold=0.01):\n",
    "    \"\"\"\n",
    "    Sets matrix elements to zero if their absolute value is below the threshold.\n",
    "    \n",
    "    Args:\n",
    "        matrix: Input numpy array\n",
    "        threshold: Values below this threshold will be set to 0 (default: 1e-10)\n",
    "    \n",
    "    Returns:\n",
    "        numpy array with small values set to zero\n",
    "    \"\"\"\n",
    "    # Create a copy to avoid modifying the original matrix\n",
    "    result = np.copy(matrix)\n",
    "    \n",
    "    # Set elements below threshold to zero\n",
    "    result[np.abs(result) < threshold] = 0\n",
    "    \n",
    "    return result"
   ]
  },
  {
   "cell_type": "code",
   "execution_count": null,
   "metadata": {},
   "outputs": [],
   "source": [
    "feat_sparsities = np.linspace(0.0, 0.99, 100)\n",
    "losses = []\n",
    "counts = []\n",
    "Ws = []\n",
    "\n",
    "for feat_sparsity in feat_sparsities:\n",
    "    config = CisConfig(n_instances=1, n_feat=100, n_hidden=40, feat_sparsity=feat_sparsity, feat_importance=1.0)\n",
    "    model = Cis(config)\n",
    "    batch_sz = 128\n",
    "    steps = 10000\n",
    "    logging_freq = steps // 10\n",
    "\n",
    "    model.optimize(t.optim.Adam(model.parameters()), batch_sz, steps, logging_freq)\n",
    "    cur_w = model.W1.detach().numpy().squeeze()\n",
    "    Ws.append(cur_w)\n",
    "    count = count_monosemantic_neurons(cur_w, threshold=0.1)    \n",
    "    counts.append(count)\n",
    "    print(feat_sparsity, count)"
   ]
  },
  {
   "cell_type": "code",
   "execution_count": 217,
   "metadata": {},
   "outputs": [
    {
     "data": {
      "image/png": "[encoded data removed]",
      "text/plain": [
       "<Figure size 640x480 with 1 Axes>"
      ]
     },
     "metadata": {},
     "output_type": "display_data"
    }
   ],
   "source": [
    "\n",
    "plt.plot(feat_sparsities, counts)\n",
    "plt.title('Number of monosemantic neurons out of 40 on 100 features')\n",
    "plt.xlabel('feature sparsity')\n",
    "plt.ylabel('Monosemantic Neurons')\n",
    "plt.show()"
   ]
  },
  {
   "cell_type": "code",
   "execution_count": 167,
   "metadata": {},
   "outputs": [],
   "source": [
    "def plot_polysemanticity(W1):\n",
    "    import matplotlib.pyplot as plt\n",
    "\n",
    "    # Define the weight matrix\n",
    "    #W1 = model.W1.detach().numpy().squeeze()\n",
    "    W1 = threshold_matrix(W1)\n",
    "\n",
    "    # Create feature labels\n",
    "    features = [f'Feature {i+1}' for i in range(W1.shape[0])]\n",
    "\n",
    "    # Extend x range by one point to show the last step\n",
    "    x = np.arange(W1.shape[1] + 1)\n",
    "    # Extend the weight matrix data by repeating the last column\n",
    "    W1_extended = np.hstack([W1, W1[:, -1:]])\n",
    "\n",
    "    # Create larger figure\n",
    "    fig, ax = plt.subplots(figsize=(10, 6))\n",
    "\n",
    "    # Create stack plot with extended data\n",
    "    ax.stackplot(x, W1_extended, labels=features, step='post')\n",
    "    ax.set_xlim(-0.1, W1.shape[1] - 0.1)  # Set limit to show exactly 6 stacks\n",
    "\n",
    "    # Enhance visibility\n",
    "    ax.grid(True, alpha=0.3)\n",
    "    ax.legend(loc='upper left', bbox_to_anchor=(1.05, 1), borderaxespad=0.)\n",
    "\n",
    "    # Set titles and labels\n",
    "    ax.set_title('Non-Continuous Stack Plot of W1')\n",
    "    ax.set_xlabel('Data Points')\n",
    "    ax.set_ylabel('Values')\n",
    "\n",
    "    # Add x-ticks for each neuron\n",
    "    ax.set_xticks(np.arange(W1.shape[1]))\n",
    "    ax.set_xticklabels([f'Neuron {i+1}' for i in range(W1.shape[1])])\n",
    "\n",
    "    # Adjust layout to prevent cutoff\n",
    "    plt.tight_layout()\n",
    "\n",
    "    # Show the plot\n",
    "    plt.show()"
   ]
  }
 ],
 "metadata": {
  "kernelspec": {
   "display_name": "Python 3",
   "language": "python",
   "name": "python3"
  },
  "language_info": {
   "codemirror_mode": {
    "name": "ipython",
    "version": 3
   },
   "file_extension": ".py",
   "mimetype": "text/x-python",
   "name": "python",
   "nbconvert_exporter": "python",
   "pygments_lexer": "ipython3",
   "version": "3.12.2"
  }
 },
 "nbformat": 4,
 "nbformat_minor": 2
}
