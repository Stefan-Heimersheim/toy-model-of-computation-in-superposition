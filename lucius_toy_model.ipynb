{
 "cells": [
  {
   "cell_type": "code",
   "execution_count": 1,
   "metadata": {},
   "outputs": [],
   "source": [
    "\"\"\"Notebook settings and imports.\"\"\"\n",
    "\n",
    "%load_ext autoreload\n",
    "%autoreload 2\n",
    "# %flow mode reactive\n",
    "\n",
    "import os\n",
    "\n",
    "from dataclasses import dataclass, field\n",
    "from typing import Callable, List, Optional, Tuple, Union\n",
    "\n",
    "import numpy as np\n",
    "import torch as t\n",
    "\n",
    "from einops import asnumpy, einsum, rearrange, reduce, repeat, pack, parse_shape, unpack\n",
    "from einops.layers.torch import Rearrange, Reduce\n",
    "from jaxtyping import Float, Int\n",
    "from matplotlib import pyplot as plt\n",
    "from plotly import express as px\n",
    "from plotly import graph_objects as go\n",
    "from plotly import io as pio\n",
    "from rich import print as rprint\n",
    "from torch import nn, optim\n",
    "from torch.nn import functional as F\n",
    "from tqdm.notebook import tqdm"
   ]
  },
  {
   "cell_type": "code",
   "execution_count": 2,
   "metadata": {},
   "outputs": [],
   "source": [
    "@dataclass\n",
    "class CisConfig:\n",
    "    n_instances: int = 1\n",
    "    n_feat: int = 2\n",
    "    n_hidden: int = 4\n",
    "    act_fn: List[Callable] = field(default_factory=lambda: [F.relu, F.relu])\n",
    "    #b1: str | Float[t.Tensor, \"inst hid\"] = field(default_factory=lambda: \"0\")\n",
    "    #b2: str | Float[t.Tensor, \"inst hid\"] = field(default_factory=lambda: \"0\")\n",
    "    optimizer: Callable = t.optim.Adam\n",
    "    fx: Callable = F.relu\n",
    "\n",
    "    def __post_init__(self):\n",
    "        \"\"\"Ensure attribute values are valid.\"\"\"\n",
    "        pass"
   ]
  },
  {
   "cell_type": "code",
   "execution_count": 18,
   "metadata": {},
   "outputs": [],
   "source": [
    "class Lucius(nn.Module):\n",
    "    \"\"\"Lucius toy model.\"\"\"\n",
    "\n",
    "    W1: Float[t.Tensor, \"inst feat hid\"]\n",
    "    W2: Float[t.Tensor, \"inst hid feat\"]\n",
    "\n",
    "    def __init__(self, cfg: CisConfig):\n",
    "        \"\"\"Initializes model params.\"\"\"\n",
    "        super().__init__()\n",
    "        self.cfg = cfg\n",
    "\n",
    "        # Model Weights\n",
    "        self.W1 = nn.Parameter(nn.init.xavier_normal_(t.empty(cfg.n_instances, cfg.n_feat, cfg.n_hidden)))\n",
    "        self.W2 = nn.Parameter(nn.init.xavier_normal_(t.empty(cfg.n_instances, cfg.n_hidden, cfg.n_feat)))    \n",
    "\n",
    "    def gen_batch(self, batch_sz: int) -> t.Tensor:\n",
    "        \"\"\"Generates a batch of data (sparse feature vals on [-1, 1]) with instances.\n",
    "        \n",
    "        Returns:\n",
    "            Tensor of shape (batch_sz, n_instances, n_feat) with one random activated\n",
    "            feature per instance.\n",
    "        \"\"\"\n",
    "        # Create zero tensor with instances dimension\n",
    "        x = t.zeros(batch_sz, self.cfg.n_instances, self.cfg.n_feat)\n",
    "        \n",
    "        # Generate random positions for each batch and instance\n",
    "        active_positions = t.randint(0, self.cfg.n_feat, (batch_sz, self.cfg.n_instances))\n",
    "        \n",
    "        # Generate random values between -1 and 1 for each batch and instance\n",
    "        #active_values = t.rand(batch_sz, self.cfg.n_instances) * 2 - 1\n",
    "        active_values = t.randint(0, 2, (batch_sz, self.cfg.n_instances)) * 2.0 - 1\n",
    "        \n",
    "        # Create index tensors for vectorized assignment\n",
    "        batch_idx = t.arange(batch_sz).view(-1, 1).expand(-1, self.cfg.n_instances)\n",
    "        instance_idx = t.arange(self.cfg.n_instances).expand(batch_sz, -1)\n",
    "        \n",
    "        # Vectorized assignment using advanced indexing\n",
    "        x[batch_idx, instance_idx, active_positions] = active_values\n",
    "        \n",
    "        return x\n",
    "\n",
    "    def forward(self, x: Float[t.Tensor, \"batch inst feat\"]) -> Float[t.Tensor, \"batch inst feat\"]:\n",
    "        \"\"\"Runs a forward pass through model returning the loss.\"\"\"\n",
    "\n",
    "        # Hidden layer\n",
    "        h = einsum(x, self.W1, \"batch inst feat, inst feat hid -> batch inst hid\")\n",
    "        h = self.cfg.act_fn[0](h)\n",
    "\n",
    "        # Output layer\n",
    "        y = einsum(h, self.W2, \"batch inst hid, inst hid feat -> batch inst feat\")\n",
    "        #y = self.cfg.act_fn[1](y + self.b2)\n",
    "        #y = self.cfg.act_fn[0](y)\n",
    "\n",
    "        return y\n",
    "\n",
    "    def calculate_loss(self,  x: Float[t.Tensor, \"batch inst feat\"], y: Float[t.Tensor, \"batch inst feat\"]) -> Float[t.Tensor, \"\"]:\n",
    "\n",
    "        y_true = self.cfg.fx(x)\n",
    "        #return self.weighted_L1(y_true, y)\n",
    "        #return self.zero_out_inactive(y_true, y)\n",
    "        return self.weighted_mse(y_true, y)\n",
    "    \n",
    "        # non_zero_mask = (x != 0)\n",
    "        # zero_mask = (x == 0)\n",
    "        \n",
    "        # y_diff = y[non_zero_mask] - y_true[non_zero_mask]\n",
    "        \n",
    "        # loss = t.mean(t.abs(y_diff))\n",
    "        # rest_mult = 2.0\n",
    "        # loss += rest_mult * t.mean(t.abs(y[zero_mask] - y_true[zero_mask]))\n",
    "        # return loss\n",
    "    \n",
    "    # def weighted_binary_cross_entropy(self, y_true, y_pred, active_weight=10.0, inactive_weight=1.0):\n",
    "    #     # print(y_true.shape)\n",
    "    #     # print(y_pred.shape)\n",
    "    #     # print(t.min(y_true), t.max(y_true))\n",
    "    #     # print(t.min(y_pred), t.max(y_pred))\n",
    "    #     weights = t.where(y_true == 1, active_weight, inactive_weight)\n",
    "    #     y_pred_sigmoid = t.sigmoid(y_pred)\n",
    "    #     bce = F.binary_cross_entropy(y_pred_sigmoid, y_true, reduction='none')\n",
    "    #     weighted_bce = weights * bce\n",
    "    #     return t.mean(weighted_bce)\n",
    "    \n",
    "    # def zero_out_inactive(self, y_true, y_pred):\n",
    "    #     thres = 0.01\n",
    "    #     relative_thres = thres * y_true\n",
    "    #     cleaned_pred = t.relu(y_pred - relative_thres) + relative_thres\n",
    "    #     mse = (y_true - cleaned_pred) ** 2\n",
    "    #     return t.mean(mse)\n",
    "\n",
    "    def weighted_mse(self, y_true, y_pred, active_weight=10, inactive_weight=1.0):\n",
    "        weights = t.where(y_true == 1, active_weight, inactive_weight)\n",
    "        mse = (y_true - y_pred) ** 2\n",
    "        weighted_mse = weights * mse\n",
    "        return t.mean(weighted_mse)\n",
    "\n",
    "    def weighted_L1(self, y_true, y_pred, active_weight=10, inactive_weight=1.0):\n",
    "        weights = t.where(y_true == 1, active_weight, inactive_weight)\n",
    "        L1 = t.abs(y_true - y_pred)\n",
    "        weighted_L1 = weights * L1\n",
    "        return t.mean(weighted_L1)\n",
    "\n",
    "    def optimize(\n",
    "        self, optimizer: t.optim.Optimizer, batch_sz: int, steps: int, logging_freq: int\n",
    "    ):\n",
    "        \"\"\"Optimizes the model.\"\"\"\n",
    "\n",
    "        losses = []\n",
    "        pbar = tqdm(range(steps), desc=\"Training\")\n",
    "\n",
    "        for step in pbar:\n",
    "            x = self.gen_batch(batch_sz)\n",
    "            y = self.forward(x)\n",
    "            optimizer.zero_grad()\n",
    "            loss = self.calculate_loss(x, y)\n",
    "            loss.backward()\n",
    "            optimizer.step()\n",
    "            # Log progress\n",
    "            if step % logging_freq == 0 or (step + 1 == steps):\n",
    "                losses.append(loss.item())\n",
    "                pbar.set_postfix({\"loss\": f\"{loss.item():.4f}\"})\n",
    "            # if loss <= 10e-4:\n",
    "            #     print(loss)\n",
    "            #     break\n",
    "\n",
    "        return losses"
   ]
  },
  {
   "cell_type": "code",
   "execution_count": 19,
   "metadata": {},
   "outputs": [],
   "source": [
    "n_instances=1\n",
    "n_feat = 100\n",
    "n_hidden = 50\n",
    "\n",
    "config = CisConfig(n_instances=n_instances, n_feat=n_feat, n_hidden=n_hidden)"
   ]
  },
  {
   "cell_type": "code",
   "execution_count": 20,
   "metadata": {},
   "outputs": [
    {
     "data": {
      "application/vnd.jupyter.widget-view+json": {
       "model_id": "f1a5b67ef676443a961b05880f8029c9",
       "version_major": 2,
       "version_minor": 0
      },
      "text/plain": [
       "Training:   0%|          | 0/10000 [00:00<?, ?it/s]"
      ]
     },
     "metadata": {},
     "output_type": "display_data"
    },
    {
     "data": {
      "text/plain": [
       "[0.04610653221607208,\n",
       " 0.005066508427262306,\n",
       " 0.004213360138237476,\n",
       " 0.004395646974444389,\n",
       " 0.004263615235686302,\n",
       " 0.004567816387861967,\n",
       " 0.004438393283635378,\n",
       " 0.004509293008595705,\n",
       " 0.0049343472346663475,\n",
       " 0.004377719014883041,\n",
       " 0.004922091495245695]"
      ]
     },
     "execution_count": 20,
     "metadata": {},
     "output_type": "execute_result"
    }
   ],
   "source": [
    "model = Lucius(config)\n",
    "batch_sz = 128\n",
    "steps = 10000\n",
    "logging_freq = steps // 10\n",
    "\n",
    "model.optimize(t.optim.Adam(model.parameters()), batch_sz, steps, logging_freq)"
   ]
  },
  {
   "cell_type": "code",
   "execution_count": 41,
   "metadata": {},
   "outputs": [
    {
     "name": "stdout",
     "output_type": "stream",
     "text": [
      "86\n",
      "[tensor(0.0103), tensor(0.0093), tensor(0.0107), tensor(0.0078), tensor(0.0097), tensor(0.0092), tensor(0.0085), tensor(0.0088), tensor(0.0093), tensor(0.0083), tensor(0.0089), tensor(0.0098), tensor(0.0095), tensor(0.0087), tensor(0.0100), tensor(0.0082), tensor(0.0093), tensor(0.0092), tensor(0.0080), tensor(0.0089), tensor(0.0084), tensor(0.0093), tensor(0.0087), tensor(0.0085), tensor(0.0085), tensor(0.0092), tensor(0.0100), tensor(0.0083), tensor(0.0086), tensor(0.0082), tensor(0.0090), tensor(0.0105), tensor(0.0093), tensor(0.0105), tensor(0.0097), tensor(0.0082), tensor(0.0098), tensor(0.0089), tensor(0.0092), tensor(0.0094), tensor(0.0091), tensor(0.0105), tensor(0.0086), tensor(0.0084), tensor(0.0096), tensor(0.0104), tensor(0.0090), tensor(0.0095), tensor(0.0077), tensor(0.0084), tensor(0.0088), tensor(0.0080), tensor(0.0094), tensor(0.0093), tensor(0.0084), tensor(0.0091), tensor(0.0090), tensor(0.0087), tensor(0.0097), tensor(0.0093), tensor(0.0105), tensor(0.0103), tensor(0.0093), tensor(0.0102), tensor(0.0092), tensor(0.0083), tensor(0.0107), tensor(0.0096), tensor(0.0088), tensor(0.0100), tensor(0.0096), tensor(0.0093), tensor(0.0085), tensor(0.0093), tensor(0.0091), tensor(0.0104), tensor(0.0081), tensor(0.0086), tensor(0.0091), tensor(0.0089), tensor(0.0091), tensor(0.0082), tensor(0.0095), tensor(0.0089), tensor(0.0091), tensor(0.0097), tensor(0.0089), tensor(0.0096), tensor(0.0096), tensor(0.0084), tensor(0.0088), tensor(0.0088), tensor(0.0097), tensor(0.0085), tensor(0.0086), tensor(0.0088), tensor(0.0089), tensor(0.0093), tensor(0.0090), tensor(0.0091)]\n",
      "[[tensor(0.2603), tensor(-0.2316), 0, tensor(7.8101)], [tensor(0.2155), tensor(-0.1755), 0, tensor(7.5140)], [tensor(0.3087), tensor(-0.2203), 0, tensor(7.5817)], [tensor(0.2643), tensor(-0.2141), 0, tensor(6.5700)], [tensor(0.2499), tensor(-0.1705), 0, tensor(7.7497)], [tensor(0.2758), tensor(-0.2113), 0, tensor(7.1611)], [tensor(0.2209), tensor(-0.1774), 0, tensor(6.7819)], [tensor(0.2406), tensor(-0.2006), 0, tensor(7.0630)], [tensor(0.2404), tensor(-0.2162), 0, tensor(7.2620)], [tensor(0.2101), tensor(-0.1772), 0, tensor(6.8443)], [tensor(0.2524), tensor(-0.1907), 0, tensor(7.0188)], [tensor(0.2391), tensor(-0.2005), 0, tensor(7.7291)], [tensor(0.2493), tensor(-0.1981), 0, tensor(7.1206)], [tensor(0.2654), tensor(-0.2093), 0, tensor(6.8729)], [tensor(0.3007), tensor(-0.2348), 0, tensor(7.2824)], [tensor(0.2067), tensor(-0.1974), 0, tensor(7.0514)], [tensor(0.2270), tensor(-0.2071), 0, tensor(7.3608)], [tensor(0.2010), tensor(-0.2432), 0, tensor(7.1239)], [tensor(0.2318), tensor(-0.2354), 0, tensor(6.6212)], [tensor(0.2623), tensor(-0.2125), 0, tensor(7.2372)], [tensor(0.2371), tensor(-0.2300), 0, tensor(6.9021)], [tensor(0.2546), tensor(-0.2219), 0, tensor(7.3219)], [tensor(0.2305), tensor(-0.1822), 0, tensor(7.2142)], [tensor(0.2205), tensor(-0.2484), 0, tensor(6.8749)], [tensor(0.2718), tensor(-0.2306), 0, tensor(7.1214)], [tensor(0.1857), tensor(-0.1749), 0, tensor(7.3930)], [tensor(0.2295), tensor(-0.2465), 0, tensor(7.7531)], [tensor(0.1693), tensor(-0.1918), 0, tensor(7.3848)], [tensor(0.2192), tensor(-0.1912), 0, tensor(7.1350)], [tensor(0.1952), tensor(-0.2201), 0, tensor(7.0412)], [tensor(0.2238), tensor(-0.2264), 0, tensor(7.3687)], [tensor(0.2444), tensor(-0.1881), 0, tensor(7.6667)], [tensor(0.2719), tensor(-0.2004), 0, tensor(6.9951)], [tensor(0.2631), tensor(-0.1901), 0, tensor(7.9180)], [tensor(0.2230), tensor(-0.2587), 0, tensor(7.1633)], [tensor(0.2454), tensor(-0.1645), 0, tensor(7.1397)], [tensor(0.2754), tensor(-0.2044), 0, tensor(7.6094)], [tensor(0.2699), tensor(-0.2399), 0, tensor(7.2255)], [tensor(0.2017), tensor(-0.2020), 0, tensor(7.4503)], [tensor(0.2695), tensor(-0.3021), 0, tensor(6.9165)], [tensor(0.3098), tensor(-0.1973), 0, tensor(7.1371)], [tensor(0.2404), tensor(-0.2651), 0, tensor(7.7590)], [tensor(0.2623), tensor(-0.1657), 0, tensor(6.9639)], [tensor(0.1727), tensor(-0.2502), 0, tensor(7.1629)], [tensor(0.2201), tensor(-0.2294), 0, tensor(7.5707)], [tensor(0.2508), tensor(-0.2324), 0, tensor(8.0175)], [tensor(0.2759), tensor(-0.2091), 0, tensor(7.0414)], [tensor(0.1994), tensor(-0.1651), 0, tensor(7.5785)], [tensor(0.1944), tensor(-0.2054), 0, tensor(6.5460)], [tensor(0.2627), tensor(-0.2254), 0, tensor(7.0120)], [tensor(0.2695), tensor(-0.1947), 0, tensor(7.0943)], [tensor(0.2360), tensor(-0.2202), 0, tensor(6.8631)], [tensor(0.2694), tensor(-0.2286), 0, tensor(7.3483)], [tensor(0.2227), tensor(-0.2640), 0, tensor(7.2956)], [tensor(0.2076), tensor(-0.2016), 0, tensor(6.8421)], [tensor(0.2576), tensor(-0.2084), 0, tensor(6.9487)], [tensor(0.3257), tensor(-0.2164), 0, tensor(7.0445)], [tensor(0.2453), tensor(-0.2120), 0, tensor(6.8828)], [tensor(0.2311), tensor(-0.2389), 0, tensor(7.2124)], [tensor(0.2937), tensor(-0.2155), 0, tensor(7.3464)], [tensor(0.3196), tensor(-0.1946), 0, tensor(7.6999)], [tensor(0.2284), tensor(-0.2084), 0, tensor(7.8687)], [tensor(0.2479), tensor(-0.2966), 0, tensor(7.0264)], [tensor(0.2861), tensor(-0.1969), 0, tensor(7.5602)], [tensor(0.3093), tensor(-0.2083), 0, tensor(6.9065)], [tensor(0.2891), tensor(-0.2082), 0, tensor(6.6994)], [tensor(0.2422), tensor(-0.2023), 0, tensor(7.8193)], [tensor(0.1904), tensor(-0.2184), 0, tensor(7.6279)], [tensor(0.1879), tensor(-0.2308), 0, tensor(7.1000)], [tensor(0.2670), tensor(-0.1921), 0, tensor(7.4441)], [tensor(0.2871), tensor(-0.1604), 0, tensor(7.4875)], [tensor(0.2860), tensor(-0.1984), 0, tensor(7.2946)], [tensor(0.2108), tensor(-0.2255), 0, tensor(7.3913)], [tensor(0.2702), tensor(-0.2243), 0, tensor(7.2835)], [tensor(0.2917), tensor(-0.1836), 0, tensor(7.3001)], [tensor(0.2597), tensor(-0.2763), 0, tensor(7.8908)], [tensor(0.3026), tensor(-0.1986), 0, tensor(6.9244)], [tensor(0.2513), tensor(-0.1677), 0, tensor(6.8786)], [tensor(0.2146), tensor(-0.1753), 0, tensor(7.4552)], [tensor(0.2331), tensor(-0.2401), 0, tensor(6.8846)], [tensor(0.2721), tensor(-0.1944), 0, tensor(6.8676)], [tensor(0.2540), tensor(-0.2115), 0, tensor(6.8959)], [tensor(0.2147), tensor(-0.2194), 0, tensor(7.7765)], [tensor(0.2092), tensor(-0.1839), 0, tensor(7.2579)], [tensor(0.1989), tensor(-0.2295), 0, tensor(7.1255)], [tensor(0.2123), tensor(-0.2028), 0, tensor(7.8251)], [tensor(0.2457), tensor(-0.1956), 0, tensor(7.3010)], [tensor(0.2898), tensor(-0.2070), 0, tensor(6.9658)], [tensor(0.2236), tensor(-0.2559), 0, tensor(7.5699)], [tensor(0.2513), tensor(-0.2227), 0, tensor(6.8007)], [tensor(0.1808), tensor(-0.2318), 0, tensor(7.2176)], [tensor(0.2048), tensor(-0.2076), 0, tensor(7.1875)], [tensor(0.2930), tensor(-0.2064), 0, tensor(7.5278)], [tensor(0.2591), tensor(-0.2098), 0, tensor(7.0462)], [tensor(0.2021), tensor(-0.2330), 0, tensor(7.1150)], [tensor(0.1987), tensor(-0.2046), 0, tensor(7.4281)], [tensor(0.1915), tensor(-0.2131), 0, tensor(7.1317)], [tensor(0.2460), tensor(-0.2265), 0, tensor(7.3913)], [tensor(0.2917), tensor(-0.2003), 0, tensor(7.0678)], [tensor(0.2741), tensor(-0.2019), 0, tensor(6.9996)]]\n",
      "[0, 0, 0, 0, 0, 0, 0, 0, 0, 0, 0, 0, 0, 0, 0, 0, 0, 0, 0, 0, 0, 0, 0, 0, 0, 0, 0, 0, 0, 0, 0, 0, 0, 0, 0, 0, 0, 0, 0, 0, 0, 0, 0, 0, 0, 0, 0, 0, 0, 0, 0, 0, 0, 0, 0, 0, 0, 0, 0, 0, 0, 0, 0, 0, 0, 0, 0, 0, 0, 0, 0, 0, 0, 0, 0, 0, 0, 0, 0, 0, 0, 0, 0, 0, 0, 0, 0, 0, 0, 0, 0, 0, 0, 0, 0, 0, 0, 0, 0, 0]\n"
     ]
    },
    {
     "data": {
      "image/png": "[encoded data removed]",
      "text/plain": [
       "<Figure size 640x480 with 1 Axes>"
      ]
     },
     "metadata": {},
     "output_type": "display_data"
    }
   ],
   "source": [
    "count, losses_sep, losses_stat = count_represented_features(n_feat, model, threshold=0.1)\n",
    "print(count)\n",
    "print(losses_sep)\n",
    "print(losses_stat)\n",
    "sums = [losses_stat[i][3] for i in range(n_feat)]\n",
    "maxs = [losses_stat[i][0] for i in range(n_feat)]\n",
    "mins = [losses_stat[i][1] for i in range(n_feat)]\n",
    "big_noise = [losses_stat[i][2] for i in range(n_feat)]\n",
    "plt.plot(sums)\n",
    "plt.plot(maxs)\n",
    "plt.plot(mins)\n",
    "print(big_noise)\n",
    "#print(np.mean(losses_sep))"
   ]
  },
  {
   "cell_type": "code",
   "execution_count": 36,
   "metadata": {},
   "outputs": [
    {
     "name": "stderr",
     "output_type": "stream",
     "text": [
      "C:\\Users\\gigle\\AppData\\Local\\Temp\\ipykernel_42420\\3293248400.py:29: UserWarning: No artists with labels found to put in legend.  Note that artists whose label start with an underscore are ignored when legend() is called with no argument.\n",
      "  ax.legend(loc='upper left', bbox_to_anchor=(1.05, 1), borderaxespad=0.)\n"
     ]
    },
    {
     "data": {
      "image/png": "[encoded data removed]",
      "text/plain": [
       "<Figure size 1000x600 with 1 Axes>"
      ]
     },
     "metadata": {},
     "output_type": "display_data"
    }
   ],
   "source": [
    "plot_polysemanticity(model.W1.detach().squeeze(), transpose=False)"
   ]
  },
  {
   "cell_type": "code",
   "execution_count": 23,
   "metadata": {},
   "outputs": [],
   "source": [
    "W1 = model.W1[0].detach().squeeze().clone()\n",
    "W2 = model.W2[0].detach().squeeze().clone()\n"
   ]
  },
  {
   "cell_type": "code",
   "execution_count": 82,
   "metadata": {},
   "outputs": [
    {
     "name": "stdout",
     "output_type": "stream",
     "text": [
      "torch.Size([100, 50])\n",
      "(tensor([20, 23, 22, 22, 20, 25, 21, 15, 22, 19, 22, 19, 22, 22, 21, 22, 27, 19,\n",
      "        26, 20, 22, 21, 22, 25, 18, 22, 24, 25, 22, 26, 20, 21, 21, 24, 23, 20,\n",
      "        22, 21, 27, 19, 20, 18, 23, 22, 23, 23, 20, 25, 21, 23, 18, 17, 19, 25,\n",
      "        21, 19, 26, 23, 20, 19, 21, 27, 22, 20, 21, 19, 21, 23, 21, 22, 20, 22,\n",
      "        21, 18, 22, 20, 22, 20, 25, 21, 21, 23, 22, 19, 22, 22, 20, 22, 23, 24,\n",
      "        20, 21, 21, 24, 23, 17, 22, 22, 22, 27]), tensor([50, 35, 43, 48, 49, 40, 45, 38, 41, 45, 43, 41, 50, 48, 47, 39, 42, 42,\n",
      "        44, 40, 43, 46, 44, 38, 44, 44, 44, 37, 45, 48, 41, 45, 50, 43, 47, 45,\n",
      "        37, 35, 45, 40, 45, 40, 51, 40, 48, 45, 41, 41, 39, 43]))\n"
     ]
    },
    {
     "name": "stderr",
     "output_type": "stream",
     "text": [
      "C:\\Users\\gigle\\AppData\\Local\\Temp\\ipykernel_42420\\4263092405.py:29: UserWarning:\n",
      "\n",
      "No artists with labels found to put in legend.  Note that artists whose label start with an underscore are ignored when legend() is called with no argument.\n",
      "\n"
     ]
    },
    {
     "data": {
      "image/png": "[encoded data removed]",
      "text/plain": [
       "<Figure size 1000x600 with 1 Axes>"
      ]
     },
     "metadata": {},
     "output_type": "display_data"
    }
   ],
   "source": [
    "#W1 = model.W1[0].detach().squeeze()\n",
    "    \n",
    "def count_above_threshold(matrix, threshold):\n",
    "    row_counts = (matrix > threshold).sum(dim=1)\n",
    "    col_counts = (matrix > threshold).sum(dim=0)\n",
    "    return row_counts, col_counts\n",
    "\n",
    "#W2 = model.W2[0].detach().squeeze()\n",
    "#print(count_above_threshold(W1, 0.01))\n",
    "W1_adj = t.empty_like(W1)\n",
    "for i in range(W1.shape[0]):\n",
    "    for j in range(W1.shape[1]):\n",
    "        #print(i,j)\n",
    "        W1_adj[i][j] = W1[i][j] * W2[j][i]\n",
    "\n",
    "print(W1_adj.shape)\n",
    "print(count_above_threshold(W1_adj,0.01))\n",
    "#print(W1.shape, W2.shape)\n",
    "plot_polysemanticity(W1_adj, do_thres = False)"
   ]
  },
  {
   "cell_type": "code",
   "execution_count": 77,
   "metadata": {},
   "outputs": [
    {
     "name": "stdout",
     "output_type": "stream",
     "text": [
      "[tensor(0.9227), tensor(0.9383), tensor(0.9199), tensor(0.9919), tensor(0.9393), tensor(0.9503), tensor(0.9640), tensor(0.9568), tensor(0.9423), tensor(0.9486), tensor(0.9364), tensor(0.9412), tensor(0.9374), tensor(0.9349), tensor(0.9329), tensor(0.9547), tensor(0.9434), tensor(0.9358), tensor(0.9719), tensor(0.9632), tensor(0.9676), tensor(0.9484), tensor(0.9529), tensor(0.9630), tensor(0.9562), tensor(0.9674), tensor(0.9362), tensor(0.9831), tensor(0.9699), tensor(0.9584), tensor(0.9191), tensor(0.9285), tensor(0.9176), tensor(0.9165), tensor(0.9424), tensor(0.9369), tensor(0.9538), tensor(0.9635), tensor(0.9544), tensor(0.9635), tensor(0.9321), tensor(0.9491), tensor(0.9338), tensor(0.9533), tensor(0.9222), tensor(0.9559), tensor(0.9418), tensor(0.9262), tensor(0.9537), tensor(0.9318), tensor(0.9709), tensor(0.9668), tensor(0.9446), tensor(0.9333), tensor(0.9777), tensor(0.9252), tensor(0.9502), tensor(0.9554), tensor(0.9409), tensor(0.9523), tensor(0.9332), tensor(0.9327), tensor(0.9209), tensor(0.9286), tensor(0.9531), tensor(0.9623), tensor(0.9137), tensor(0.9314), tensor(0.9416), tensor(0.9225), tensor(0.9739), tensor(0.9518), tensor(0.9392), tensor(0.9469), tensor(0.9235), tensor(0.9866), tensor(0.9726), tensor(0.9635), tensor(0.9274), tensor(0.9490), tensor(0.9456), tensor(0.9661), tensor(0.9645), tensor(0.9572), tensor(0.9293), tensor(0.9393), tensor(0.9614), tensor(0.9633), tensor(0.9604), tensor(0.9540), tensor(0.9496), tensor(0.9531), tensor(0.9334), tensor(0.9896), tensor(0.9343), tensor(0.9364), tensor(0.9480), tensor(0.9601), tensor(0.9677), tensor(0.9413)]\n",
      "[tensor(-0.0260), tensor(-0.0260), tensor(-0.0299), tensor(-0.0760), tensor(-0.0206), tensor(-0.0295), tensor(-0.0397), tensor(-0.0404), tensor(-0.0326), tensor(-0.0351), tensor(-0.0288), tensor(-0.0268), tensor(-0.0404), tensor(-0.0182), tensor(-0.0344), tensor(-0.0375), tensor(-0.0360), tensor(-0.0295), tensor(-0.0473), tensor(-0.0537), tensor(-0.0633), tensor(-0.0396), tensor(-0.0382), tensor(-0.0529), tensor(-0.0435), tensor(-0.0567), tensor(-0.0301), tensor(-0.0640), tensor(-0.0580), tensor(-0.0368), tensor(-0.0117), tensor(-0.0289), tensor(-0.0129), tensor(-0.0200), tensor(-0.0419), tensor(-0.0182), tensor(-0.0458), tensor(-0.0634), tensor(-0.0388), tensor(-0.0565), tensor(-0.0244), tensor(-0.0494), tensor(-0.0199), tensor(-0.0438), tensor(-0.0068), tensor(-0.0318), tensor(-0.0365), tensor(-0.0225), tensor(-0.0298), tensor(-0.0166), tensor(-0.0588), tensor(-0.0463), tensor(-0.0371), tensor(-0.0275), tensor(-0.0653), tensor(-0.0150), tensor(-0.0416), tensor(-0.0470), tensor(-0.0389), tensor(-0.0520), tensor(-0.0383), tensor(-0.0315), tensor(-0.0233), tensor(-0.0260), tensor(-0.0418), tensor(-0.0438), tensor(-0.0193), tensor(-0.0292), tensor(-0.0314), tensor(-0.0217), tensor(-0.0701), tensor(-0.0397), tensor(-0.0196), tensor(-0.0453), tensor(-0.0215), tensor(-0.0439), tensor(-0.0532), tensor(-0.0450), tensor(-0.0215), tensor(-0.0382), tensor(-0.0409), tensor(-0.0486), tensor(-0.0511), tensor(-0.0450), tensor(-0.0223), tensor(-0.0396), tensor(-0.0467), tensor(-0.0589), tensor(-0.0515), tensor(-0.0409), tensor(-0.0367), tensor(-0.0311), tensor(-0.0259), tensor(-0.0680), tensor(-0.0178), tensor(-0.0237), tensor(-0.0339), tensor(-0.0474), tensor(-0.0558), tensor(-0.0304)]\n",
      "[tensor(0.8967), tensor(0.9123), tensor(0.8900), tensor(0.9160), tensor(0.9186), tensor(0.9208), tensor(0.9243), tensor(0.9165), tensor(0.9098), tensor(0.9135), tensor(0.9076), tensor(0.9144), tensor(0.8969), tensor(0.9167), tensor(0.8985), tensor(0.9172), tensor(0.9074), tensor(0.9063), tensor(0.9246), tensor(0.9094), tensor(0.9043), tensor(0.9088), tensor(0.9148), tensor(0.9102), tensor(0.9127), tensor(0.9107), tensor(0.9061), tensor(0.9191), tensor(0.9119), tensor(0.9216), tensor(0.9074), tensor(0.8996), tensor(0.9048), tensor(0.8965), tensor(0.9005), tensor(0.9187), tensor(0.9080), tensor(0.9001), tensor(0.9156), tensor(0.9071), tensor(0.9077), tensor(0.8997), tensor(0.9139), tensor(0.9095), tensor(0.9154), tensor(0.9241), tensor(0.9053), tensor(0.9037), tensor(0.9239), tensor(0.9152), tensor(0.9121), tensor(0.9204), tensor(0.9075), tensor(0.9058), tensor(0.9124), tensor(0.9102), tensor(0.9086), tensor(0.9084), tensor(0.9020), tensor(0.9003), tensor(0.8949), tensor(0.9013), tensor(0.8976), tensor(0.9027), tensor(0.9114), tensor(0.9185), tensor(0.8944), tensor(0.9022), tensor(0.9102), tensor(0.9008), tensor(0.9037), tensor(0.9122), tensor(0.9196), tensor(0.9016), tensor(0.9020), tensor(0.9427), tensor(0.9195), tensor(0.9185), tensor(0.9059), tensor(0.9109), tensor(0.9047), tensor(0.9174), tensor(0.9133), tensor(0.9123), tensor(0.9069), tensor(0.8997), tensor(0.9147), tensor(0.9044), tensor(0.9089), tensor(0.9131), tensor(0.9130), tensor(0.9221), tensor(0.9074), tensor(0.9216), tensor(0.9166), tensor(0.9127), tensor(0.9141), tensor(0.9127), tensor(0.9119), tensor(0.9109)]\n"
     ]
    }
   ],
   "source": [
    "positives = [sum([W1[j,i]*W2[i][j] for i in range(n_hidden) if W2[i][j] > 0]) for j in range(n_feat)]\n",
    "negatives = [sum([W1[j,i]*W2[i][j] for i in range(n_hidden) if W2[i][j] < 0]) for j in range(n_feat)]\n",
    "sums = [positives[i] + negatives[i] for i in range(n_feat)]\n",
    "print(positives)\n",
    "print(negatives)\n",
    "print(sums)"
   ]
  },
  {
   "cell_type": "code",
   "execution_count": 80,
   "metadata": {},
   "outputs": [
    {
     "name": "stdout",
     "output_type": "stream",
     "text": [
      "tensor(0.9050)\n"
     ]
    },
    {
     "data": {
      "image/png": "[encoded data removed]",
      "text/plain": [
       "<Figure size 640x480 with 1 Axes>"
      ]
     },
     "metadata": {},
     "output_type": "display_data"
    }
   ],
   "source": [
    "thr = 0.01\n",
    "counts = [sum([W1_adj[i][j] for j in range(n_hidden) if abs(W1_adj[i][j]) > thr]) for i in range(n_feat)]\n",
    "plt.plot(counts)\n",
    "plt.ylim(0,1.1)\n",
    "plt.title(f\"sum of all adjusted weights for threshold {thr}\")\n",
    "print(counts[30])"
   ]
  },
  {
   "cell_type": "code",
   "execution_count": 76,
   "metadata": {},
   "outputs": [
    {
     "name": "stdout",
     "output_type": "stream",
     "text": [
      "tensor(-3.8586)\n",
      "tensor(94.8694)\n"
     ]
    },
    {
     "name": "stderr",
     "output_type": "stream",
     "text": [
      "C:\\Users\\gigle\\AppData\\Local\\Temp\\ipykernel_42420\\4263092405.py:29: UserWarning:\n",
      "\n",
      "No artists with labels found to put in legend.  Note that artists whose label start with an underscore are ignored when legend() is called with no argument.\n",
      "\n"
     ]
    },
    {
     "data": {
      "image/png": "[encoded data removed]",
      "text/plain": [
       "<Figure size 1000x600 with 1 Axes>"
      ]
     },
     "metadata": {},
     "output_type": "display_data"
    }
   ],
   "source": [
    "\n",
    "print(t.sum(W1_adj[W1_adj < 0]))\n",
    "print(t.sum(W1_adj[W1_adj > 0]))\n",
    "plot_polysemanticity(W1_adj, transpose=True, do_thres=False)\n"
   ]
  },
  {
   "cell_type": "code",
   "execution_count": 43,
   "metadata": {},
   "outputs": [
    {
     "name": "stdout",
     "output_type": "stream",
     "text": [
      "tensor([ 3.7953e-02,  4.1422e-02,  5.7707e-02, -1.1126e-05, -3.1418e-03,\n",
      "        -4.8796e-05,  3.9718e-02,  4.3300e-02, -5.2977e-03, -1.8627e-03,\n",
      "         3.4805e-05,  9.0644e-03,  9.1953e-03, -2.5635e-04,  2.0528e-02,\n",
      "        -4.2242e-04,  5.2227e-02,  2.4547e-02,  5.1812e-02, -2.4303e-03,\n",
      "        -5.8026e-04,  4.5373e-02,  2.5583e-02, -9.3793e-04, -3.6704e-03,\n",
      "         3.5404e-02,  5.4377e-02,  3.8664e-03,  1.8068e-02,  3.9547e-02,\n",
      "         5.1598e-02,  3.7106e-02,  4.3602e-02, -6.6999e-04, -1.2986e-03,\n",
      "         5.3870e-04,  8.5539e-05,  3.8317e-02,  2.4742e-04,  5.9599e-02,\n",
      "        -2.6836e-03,  2.5189e-05,  5.3979e-04, -1.3051e-03,  2.6312e-02,\n",
      "        -5.1191e-03, -3.2488e-04,  5.3686e-02, -1.3214e-03,  4.6293e-06])\n"
     ]
    }
   ],
   "source": [
    "print(W1_adj[2])\n",
    "#print(model.W2)"
   ]
  },
  {
   "cell_type": "code",
   "execution_count": 31,
   "metadata": {},
   "outputs": [],
   "source": [
    "def count_represented_features(n_feat, model, threshold = 0.01) -> int:\n",
    "    count = 0\n",
    "    losses_sep = []\n",
    "    losses_stat = []\n",
    "    with t.no_grad():\n",
    "        for i in range(n_feat):\n",
    "            x = t.zeros(n_feat)\n",
    "            x[i] = 1\n",
    "            x = t.reshape(x, [1,1,x.shape[0]])\n",
    "            y = model.forward(x)\n",
    "            loss = model.calculate_loss(x,y)\n",
    "            losses_sep.append(loss)\n",
    "            #y.squeeze(0).squeeze(0)\n",
    "            y = y[0][0]\n",
    "            #print(y.shape)\n",
    "            if t.abs(y[i] - 1.0).item() < threshold:\n",
    "                count += 1\n",
    "            stats = []\n",
    "            y[i] = 0\n",
    "            stats.append(max(y))\n",
    "            stats.append(min(y))\n",
    "            stats.append(len([_ for i in range(n_feat) if t.abs(y[i] - 1.0).item() < 0.5]))\n",
    "            y = abs(y)\n",
    "            stats.append(sum(y))\n",
    "\n",
    "            losses_stat.append(stats)\n",
    "        return (count, losses_sep, losses_stat)"
   ]
  },
  {
   "cell_type": "code",
   "execution_count": 75,
   "metadata": {},
   "outputs": [],
   "source": [
    "def plot_polysemanticity(W1, transpose = False, do_thres = True):\n",
    "    import matplotlib.pyplot as plt\n",
    "    W1 = W1.clone()\n",
    "    if transpose:\n",
    "        W1 = W1.T\n",
    "    # Define the weight matrix\n",
    "    #W1 = model.W1.detach().numpy().squeeze()\n",
    "    if do_thres:\n",
    "        W1 = threshold_matrix(W1)\n",
    "\n",
    "    # Create feature labels\n",
    "    features = [f'Feature {i+1}' for i in range(W1.shape[0])]\n",
    "\n",
    "    # Extend x range by one point to show the last step\n",
    "    x = np.arange(W1.shape[1] + 1)\n",
    "    # Extend the weight matrix data by repeating the last column\n",
    "    W1_extended = np.hstack([W1, W1[:, -1:]])\n",
    "\n",
    "    # Create larger figure\n",
    "    fig, ax = plt.subplots(figsize=(10, 6))\n",
    "\n",
    "    # Create stack plot with extended data\n",
    "    #ax.stackplot(x, W1_extended, labels=features, step='post')\n",
    "    ax.stackplot(x, W1_extended, step='post')\n",
    "    ax.set_xlim(-0.1, W1.shape[1] - 0.1)  # Set limit to show exactly 6 stacks\n",
    "\n",
    "    # Enhance visibility\n",
    "    ax.grid(True, alpha=0.3)\n",
    "    ax.legend(loc='upper left', bbox_to_anchor=(1.05, 1), borderaxespad=0.)\n",
    "\n",
    "    # Set titles and labels\n",
    "    ax.set_title('Stack Plot of W1 (adjusted to W2 degeneracy)')\n",
    "    ax.set_xlabel('Data Points')\n",
    "    ax.set_ylabel('Values')\n",
    "\n",
    "    # Add x-ticks for each neuron\n",
    "    ax.set_xticks(np.arange(W1.shape[1]))\n",
    "    #ax.set_xticklabels([f'Neuron {i+1}' for i in range(W1.shape[1])])\n",
    "\n",
    "    # Adjust layout to prevent cutoff\n",
    "    plt.tight_layout()\n",
    "\n",
    "    # Show the plot\n",
    "    plt.show()"
   ]
  },
  {
   "cell_type": "code",
   "execution_count": 9,
   "metadata": {},
   "outputs": [],
   "source": [
    "def threshold_matrix(matrix, threshold=0.01):\n",
    "    \"\"\"\n",
    "    Sets matrix elements to zero if their absolute value is below the threshold.\n",
    "    \n",
    "    Args:\n",
    "        matrix: Input numpy array\n",
    "        threshold: Values below this threshold will be set to 0 (default: 1e-10)\n",
    "    \n",
    "    Returns:\n",
    "        numpy array with small values set to zero\n",
    "    \"\"\"\n",
    "    # Create a copy to avoid modifying the original matrix\n",
    "    result = np.copy(matrix)\n",
    "    \n",
    "    # Set elements below threshold to zero\n",
    "    result[np.abs(result) < threshold] = 0\n",
    "    \n",
    "    return result"
   ]
  },
  {
   "cell_type": "code",
   "execution_count": 86,
   "metadata": {},
   "outputs": [],
   "source": [
    "#t.save({'W1': model.W1.detach(), 'W2': model.W2.detach()}, 'weighted_mse.pt')"
   ]
  },
  {
   "cell_type": "code",
   "execution_count": 45,
   "metadata": {},
   "outputs": [],
   "source": [
    "def pca_2d(data):\n",
    "    \"\"\"\n",
    "    Perform PCA on high-dimensional data and project to 2D.\n",
    "    \n",
    "    Args:\n",
    "        data (torch.Tensor): Input tensor of shape (n_samples, n_features)\n",
    "        \n",
    "    Returns:\n",
    "        torch.Tensor: Projected data of shape (n_samples, 2)\n",
    "    \"\"\"\n",
    "    # Center the data\n",
    "    mean = t.mean(data, dim=0)\n",
    "    centered_data = data - mean\n",
    "\n",
    "    # Compute covariance matrix\n",
    "    cov = t.mm(centered_data.T, centered_data) / (data.shape[0] - 1)\n",
    "    \n",
    "    # Compute eigenvalues and eigenvectors\n",
    "    eigenvalues, eigenvectors = t.linalg.eigh(cov)\n",
    "    \n",
    "    # Sort eigenvalues and corresponding eigenvectors in descending order\n",
    "    sorted_indices = t.argsort(eigenvalues, descending=True)\n",
    "    eigenvalues = eigenvalues[sorted_indices]\n",
    "    eigenvectors = eigenvectors[:, sorted_indices]\n",
    "    \n",
    "    # Select top 2 eigenvectors\n",
    "    projection_matrix = eigenvectors[:, :2]\n",
    "    \n",
    "    # Project the data\n",
    "    projected_data = t.mm(centered_data, projection_matrix)\n",
    "    \n",
    "    return projected_data, eigenvalues\n",
    "\n",
    "def visualize_pca(projected_data, title=\"PCA Projection\", colors=None):\n",
    "    \"\"\"\n",
    "    Visualize the PCA projection in 2D.\n",
    "    \n",
    "    Args:\n",
    "        projected_data (torch.Tensor): PCA-projected data of shape (n_samples, 2)\n",
    "        title (str): Plot title\n",
    "        colors (list, optional): List of colors for different data points\n",
    "    \"\"\"\n",
    "    plt.figure(figsize=(10, 8))\n",
    "    \n",
    "    # Convert to numpy for plotting\n",
    "    data_np = projected_data.numpy()\n",
    "    \n",
    "    if colors is None:\n",
    "        plt.scatter(data_np[:, 0], data_np[:, 1], alpha=0.7)\n",
    "    else:\n",
    "        plt.scatter(data_np[:, 0], data_np[:, 1], c=colors, alpha=0.7)\n",
    "    \n",
    "    plt.xlabel('First Principal Component')\n",
    "    plt.ylabel('Second Principal Component')\n",
    "    plt.title(title)\n",
    "    plt.grid(True)\n",
    "    plt.show()"
   ]
  },
  {
   "cell_type": "code",
   "execution_count": 62,
   "metadata": {},
   "outputs": [
    {
     "data": {
      "image/png": "[encoded data removed]",
      "text/plain": [
       "<Figure size 1000x800 with 1 Axes>"
      ]
     },
     "metadata": {},
     "output_type": "display_data"
    },
    {
     "name": "stdout",
     "output_type": "stream",
     "text": [
      "Explained variance ratio: [0.6249424  0.37505767]\n"
     ]
    }
   ],
   "source": [
    "projected_data, eigenvalues = pca_2d(W1_adj[11:14])\n",
    "visualize_pca(projected_data, \"Example PCA Projection\")\n",
    "explained_variance_ratio = eigenvalues[:2] / t.sum(eigenvalues)\n",
    "print(f\"Explained variance ratio: {explained_variance_ratio.numpy()}\")"
   ]
  },
  {
   "cell_type": "code",
   "execution_count": 84,
   "metadata": {},
   "outputs": [],
   "source": [
    "import plotly.express as px\n",
    "import plotly.graph_objects as go\n",
    "import pandas as pd\n",
    "\n",
    "def pca_projection(data, n_components=2):\n",
    "    \"\"\"\n",
    "    Perform PCA on high-dimensional data and project to n_components dimensions.\n",
    "    \n",
    "    Args:\n",
    "        data (torch.Tensor): Input tensor of shape (n_samples, n_features)\n",
    "        n_components (int): Number of components to project to (2 or 3)\n",
    "        \n",
    "    Returns:\n",
    "        torch.Tensor: Projected data of shape (n_samples, n_components)\n",
    "        torch.Tensor: Eigenvalues\n",
    "    \"\"\"\n",
    "    # Center the data\n",
    "    mean = t.mean(data, dim=0)\n",
    "    centered_data = data - mean\n",
    "\n",
    "    # Compute covariance matrix\n",
    "    cov = t.mm(centered_data.T, centered_data) / (data.shape[0] - 1)\n",
    "    \n",
    "    # Compute eigenvalues and eigenvectors\n",
    "    eigenvalues, eigenvectors = t.linalg.eigh(cov)\n",
    "    \n",
    "    # Sort eigenvalues and corresponding eigenvectors in descending order\n",
    "    sorted_indices = t.argsort(eigenvalues, descending=True)\n",
    "    eigenvalues = eigenvalues[sorted_indices]\n",
    "    eigenvectors = eigenvectors[:, sorted_indices]\n",
    "    \n",
    "    # Select top n_components eigenvectors\n",
    "    projection_matrix = eigenvectors[:, :n_components]\n",
    "    \n",
    "    # Project the data\n",
    "    projected_data = t.mm(centered_data, projection_matrix)\n",
    "    \n",
    "    return projected_data, eigenvalues\n",
    "\n",
    "def visualize_pca(projected_data, title=\"PCA Projection\", colors=None):\n",
    "    \"\"\"\n",
    "    Visualize the PCA projection in 2D or 3D using plotly.\n",
    "    \n",
    "    Args:\n",
    "        projected_data (torch.Tensor): PCA-projected data of shape (n_samples, 2) or (n_samples, 3)\n",
    "        title (str): Plot title\n",
    "        colors (list, optional): List of colors for different data points\n",
    "    \"\"\"\n",
    "    # Convert to numpy\n",
    "    data_np = projected_data.numpy()\n",
    "    \n",
    "    # Create a DataFrame for plotly\n",
    "    if data_np.shape[1] == 2:\n",
    "        df = pd.DataFrame(data_np, columns=['PC1', 'PC2'])\n",
    "        \n",
    "        if colors is not None:\n",
    "            df['Color'] = colors.numpy() if isinstance(colors, torch.Tensor) else colors\n",
    "            fig = px.scatter(df, x='PC1', y='PC2', color='Color',\n",
    "                           title=title)\n",
    "        else:\n",
    "            fig = px.scatter(df, x='PC1', y='PC2', title=title)\n",
    "            \n",
    "    elif data_np.shape[1] == 3:\n",
    "        df = pd.DataFrame(data_np, columns=['PC1', 'PC2', 'PC3'])\n",
    "        \n",
    "        if colors is not None:\n",
    "            df['Color'] = colors.numpy() if isinstance(colors, torch.Tensor) else colors\n",
    "            fig = px.scatter_3d(df, x='PC1', y='PC2', z='PC3', color='Color',\n",
    "                              title=title)\n",
    "        else:\n",
    "            fig = px.scatter_3d(df, x='PC1', y='PC2', z='PC3', title=title)\n",
    "    \n",
    "    # Update layout for better visualization\n",
    "    fig.update_layout(\n",
    "        title=dict(\n",
    "            text=title,\n",
    "            x=0.5,\n",
    "            xanchor='center'\n",
    "        ),\n",
    "        width=800,  # Set width\n",
    "        height=800,  # Set equal height for square aspect ratio\n",
    "        scene=dict(\n",
    "            xaxis_title='First Principal Component',\n",
    "            yaxis_title='Second Principal Component',\n",
    "            zaxis_title='Third Principal Component' if data_np.shape[1] == 3 else None,\n",
    "            aspectmode='cube'  # Force equal aspect ratio for all axes\n",
    "        ),\n",
    "        template='plotly_white'\n",
    "    )\n",
    "    \n",
    "    # Show the plot\n",
    "    fig.show()"
   ]
  },
  {
   "cell_type": "code",
   "execution_count": 85,
   "metadata": {},
   "outputs": [
    {
     "data": {
      "application/vnd.plotly.v1+json": {
       "config": {
        "plotlyServerURL": "https://plot.ly"
       },
       "data": [
        {
         "hovertemplate": "PC1=%{x}<br>PC2=%{y}<extra></extra>",
         "legendgroup": "",
         "marker": {
          "color": "#636efa",
          "symbol": "circle"
         },
         "mode": "markers",
         "name": "",
         "orientation": "v",
         "showlegend": false,
         "type": "scatter",
         "x": [
          -0.1427032,
          0.124980934,
          0.017722286
         ],
         "xaxis": "x",
         "y": [
          0.04980254,
          0.074489094,
          -0.12429163
         ],
         "yaxis": "y"
        }
       ],
       "layout": {
        "height": 800,
        "legend": {
         "tracegroupgap": 0
        },
        "scene": {
         "aspectmode": "cube",
         "xaxis": {
          "title": {
           "text": "First Principal Component"
          }
         },
         "yaxis": {
          "title": {
           "text": "Second Principal Component"
          }
         },
         "zaxis": {
          "title": {}
         }
        },
        "template": {
         "data": {
          "bar": [
           {
            "error_x": {
             "color": "#2a3f5f"
            },
            "error_y": {
             "color": "#2a3f5f"
            },
            "marker": {
             "line": {
              "color": "white",
              "width": 0.5
             },
             "pattern": {
              "fillmode": "overlay",
              "size": 10,
              "solidity": 0.2
             }
            },
            "type": "bar"
           }
          ],
          "barpolar": [
           {
            "marker": {
             "line": {
              "color": "white",
              "width": 0.5
             },
             "pattern": {
              "fillmode": "overlay",
              "size": 10,
              "solidity": 0.2
             }
            },
            "type": "barpolar"
           }
          ],
          "carpet": [
           {
            "aaxis": {
             "endlinecolor": "#2a3f5f",
             "gridcolor": "#C8D4E3",
             "linecolor": "#C8D4E3",
             "minorgridcolor": "#C8D4E3",
             "startlinecolor": "#2a3f5f"
            },
            "baxis": {
             "endlinecolor": "#2a3f5f",
             "gridcolor": "#C8D4E3",
             "linecolor": "#C8D4E3",
             "minorgridcolor": "#C8D4E3",
             "startlinecolor": "#2a3f5f"
            },
            "type": "carpet"
           }
          ],
          "choropleth": [
           {
            "colorbar": {
             "outlinewidth": 0,
             "ticks": ""
            },
            "type": "choropleth"
           }
          ],
          "contour": [
           {
            "colorbar": {
             "outlinewidth": 0,
             "ticks": ""
            },
            "colorscale": [
             [
              0,
              "#0d0887"
             ],
             [
              0.1111111111111111,
              "#46039f"
             ],
             [
              0.2222222222222222,
              "#7201a8"
             ],
             [
              0.3333333333333333,
              "#9c179e"
             ],
             [
              0.4444444444444444,
              "#bd3786"
             ],
             [
              0.5555555555555556,
              "#d8576b"
             ],
             [
              0.6666666666666666,
              "#ed7953"
             ],
             [
              0.7777777777777778,
              "#fb9f3a"
             ],
             [
              0.8888888888888888,
              "#fdca26"
             ],
             [
              1,
              "#f0f921"
             ]
            ],
            "type": "contour"
           }
          ],
          "contourcarpet": [
           {
            "colorbar": {
             "outlinewidth": 0,
             "ticks": ""
            },
            "type": "contourcarpet"
           }
          ],
          "heatmap": [
           {
            "colorbar": {
             "outlinewidth": 0,
             "ticks": ""
            },
            "colorscale": [
             [
              0,
              "#0d0887"
             ],
             [
              0.1111111111111111,
              "#46039f"
             ],
             [
              0.2222222222222222,
              "#7201a8"
             ],
             [
              0.3333333333333333,
              "#9c179e"
             ],
             [
              0.4444444444444444,
              "#bd3786"
             ],
             [
              0.5555555555555556,
              "#d8576b"
             ],
             [
              0.6666666666666666,
              "#ed7953"
             ],
             [
              0.7777777777777778,
              "#fb9f3a"
             ],
             [
              0.8888888888888888,
              "#fdca26"
             ],
             [
              1,
              "#f0f921"
             ]
            ],
            "type": "heatmap"
           }
          ],
          "heatmapgl": [
           {
            "colorbar": {
             "outlinewidth": 0,
             "ticks": ""
            },
            "colorscale": [
             [
              0,
              "#0d0887"
             ],
             [
              0.1111111111111111,
              "#46039f"
             ],
             [
              0.2222222222222222,
              "#7201a8"
             ],
             [
              0.3333333333333333,
              "#9c179e"
             ],
             [
              0.4444444444444444,
              "#bd3786"
             ],
             [
              0.5555555555555556,
              "#d8576b"
             ],
             [
              0.6666666666666666,
              "#ed7953"
             ],
             [
              0.7777777777777778,
              "#fb9f3a"
             ],
             [
              0.8888888888888888,
              "#fdca26"
             ],
             [
              1,
              "#f0f921"
             ]
            ],
            "type": "heatmapgl"
           }
          ],
          "histogram": [
           {
            "marker": {
             "pattern": {
              "fillmode": "overlay",
              "size": 10,
              "solidity": 0.2
             }
            },
            "type": "histogram"
           }
          ],
          "histogram2d": [
           {
            "colorbar": {
             "outlinewidth": 0,
             "ticks": ""
            },
            "colorscale": [
             [
              0,
              "#0d0887"
             ],
             [
              0.1111111111111111,
              "#46039f"
             ],
             [
              0.2222222222222222,
              "#7201a8"
             ],
             [
              0.3333333333333333,
              "#9c179e"
             ],
             [
              0.4444444444444444,
              "#bd3786"
             ],
             [
              0.5555555555555556,
              "#d8576b"
             ],
             [
              0.6666666666666666,
              "#ed7953"
             ],
             [
              0.7777777777777778,
              "#fb9f3a"
             ],
             [
              0.8888888888888888,
              "#fdca26"
             ],
             [
              1,
              "#f0f921"
             ]
            ],
            "type": "histogram2d"
           }
          ],
          "histogram2dcontour": [
           {
            "colorbar": {
             "outlinewidth": 0,
             "ticks": ""
            },
            "colorscale": [
             [
              0,
              "#0d0887"
             ],
             [
              0.1111111111111111,
              "#46039f"
             ],
             [
              0.2222222222222222,
              "#7201a8"
             ],
             [
              0.3333333333333333,
              "#9c179e"
             ],
             [
              0.4444444444444444,
              "#bd3786"
             ],
             [
              0.5555555555555556,
              "#d8576b"
             ],
             [
              0.6666666666666666,
              "#ed7953"
             ],
             [
              0.7777777777777778,
              "#fb9f3a"
             ],
             [
              0.8888888888888888,
              "#fdca26"
             ],
             [
              1,
              "#f0f921"
             ]
            ],
            "type": "histogram2dcontour"
           }
          ],
          "mesh3d": [
           {
            "colorbar": {
             "outlinewidth": 0,
             "ticks": ""
            },
            "type": "mesh3d"
           }
          ],
          "parcoords": [
           {
            "line": {
             "colorbar": {
              "outlinewidth": 0,
              "ticks": ""
             }
            },
            "type": "parcoords"
           }
          ],
          "pie": [
           {
            "automargin": true,
            "type": "pie"
           }
          ],
          "scatter": [
           {
            "fillpattern": {
             "fillmode": "overlay",
             "size": 10,
             "solidity": 0.2
            },
            "type": "scatter"
           }
          ],
          "scatter3d": [
           {
            "line": {
             "colorbar": {
              "outlinewidth": 0,
              "ticks": ""
             }
            },
            "marker": {
             "colorbar": {
              "outlinewidth": 0,
              "ticks": ""
             }
            },
            "type": "scatter3d"
           }
          ],
          "scattercarpet": [
           {
            "marker": {
             "colorbar": {
              "outlinewidth": 0,
              "ticks": ""
             }
            },
            "type": "scattercarpet"
           }
          ],
          "scattergeo": [
           {
            "marker": {
             "colorbar": {
              "outlinewidth": 0,
              "ticks": ""
             }
            },
            "type": "scattergeo"
           }
          ],
          "scattergl": [
           {
            "marker": {
             "colorbar": {
              "outlinewidth": 0,
              "ticks": ""
             }
            },
            "type": "scattergl"
           }
          ],
          "scattermapbox": [
           {
            "marker": {
             "colorbar": {
              "outlinewidth": 0,
              "ticks": ""
             }
            },
            "type": "scattermapbox"
           }
          ],
          "scatterpolar": [
           {
            "marker": {
             "colorbar": {
              "outlinewidth": 0,
              "ticks": ""
             }
            },
            "type": "scatterpolar"
           }
          ],
          "scatterpolargl": [
           {
            "marker": {
             "colorbar": {
              "outlinewidth": 0,
              "ticks": ""
             }
            },
            "type": "scatterpolargl"
           }
          ],
          "scatterternary": [
           {
            "marker": {
             "colorbar": {
              "outlinewidth": 0,
              "ticks": ""
             }
            },
            "type": "scatterternary"
           }
          ],
          "surface": [
           {
            "colorbar": {
             "outlinewidth": 0,
             "ticks": ""
            },
            "colorscale": [
             [
              0,
              "#0d0887"
             ],
             [
              0.1111111111111111,
              "#46039f"
             ],
             [
              0.2222222222222222,
              "#7201a8"
             ],
             [
              0.3333333333333333,
              "#9c179e"
             ],
             [
              0.4444444444444444,
              "#bd3786"
             ],
             [
              0.5555555555555556,
              "#d8576b"
             ],
             [
              0.6666666666666666,
              "#ed7953"
             ],
             [
              0.7777777777777778,
              "#fb9f3a"
             ],
             [
              0.8888888888888888,
              "#fdca26"
             ],
             [
              1,
              "#f0f921"
             ]
            ],
            "type": "surface"
           }
          ],
          "table": [
           {
            "cells": {
             "fill": {
              "color": "#EBF0F8"
             },
             "line": {
              "color": "white"
             }
            },
            "header": {
             "fill": {
              "color": "#C8D4E3"
             },
             "line": {
              "color": "white"
             }
            },
            "type": "table"
           }
          ]
         },
         "layout": {
          "annotationdefaults": {
           "arrowcolor": "#2a3f5f",
           "arrowhead": 0,
           "arrowwidth": 1
          },
          "autotypenumbers": "strict",
          "coloraxis": {
           "colorbar": {
            "outlinewidth": 0,
            "ticks": ""
           }
          },
          "colorscale": {
           "diverging": [
            [
             0,
             "#8e0152"
            ],
            [
             0.1,
             "#c51b7d"
            ],
            [
             0.2,
             "#de77ae"
            ],
            [
             0.3,
             "#f1b6da"
            ],
            [
             0.4,
             "#fde0ef"
            ],
            [
             0.5,
             "#f7f7f7"
            ],
            [
             0.6,
             "#e6f5d0"
            ],
            [
             0.7,
             "#b8e186"
            ],
            [
             0.8,
             "#7fbc41"
            ],
            [
             0.9,
             "#4d9221"
            ],
            [
             1,
             "#276419"
            ]
           ],
           "sequential": [
            [
             0,
             "#0d0887"
            ],
            [
             0.1111111111111111,
             "#46039f"
            ],
            [
             0.2222222222222222,
             "#7201a8"
            ],
            [
             0.3333333333333333,
             "#9c179e"
            ],
            [
             0.4444444444444444,
             "#bd3786"
            ],
            [
             0.5555555555555556,
             "#d8576b"
            ],
            [
             0.6666666666666666,
             "#ed7953"
            ],
            [
             0.7777777777777778,
             "#fb9f3a"
            ],
            [
             0.8888888888888888,
             "#fdca26"
            ],
            [
             1,
             "#f0f921"
            ]
           ],
           "sequentialminus": [
            [
             0,
             "#0d0887"
            ],
            [
             0.1111111111111111,
             "#46039f"
            ],
            [
             0.2222222222222222,
             "#7201a8"
            ],
            [
             0.3333333333333333,
             "#9c179e"
            ],
            [
             0.4444444444444444,
             "#bd3786"
            ],
            [
             0.5555555555555556,
             "#d8576b"
            ],
            [
             0.6666666666666666,
             "#ed7953"
            ],
            [
             0.7777777777777778,
             "#fb9f3a"
            ],
            [
             0.8888888888888888,
             "#fdca26"
            ],
            [
             1,
             "#f0f921"
            ]
           ]
          },
          "colorway": [
           "#636efa",
           "#EF553B",
           "#00cc96",
           "#ab63fa",
           "#FFA15A",
           "#19d3f3",
           "#FF6692",
           "#B6E880",
           "#FF97FF",
           "#FECB52"
          ],
          "font": {
           "color": "#2a3f5f"
          },
          "geo": {
           "bgcolor": "white",
           "lakecolor": "white",
           "landcolor": "white",
           "showlakes": true,
           "showland": true,
           "subunitcolor": "#C8D4E3"
          },
          "hoverlabel": {
           "align": "left"
          },
          "hovermode": "closest",
          "mapbox": {
           "style": "light"
          },
          "paper_bgcolor": "white",
          "plot_bgcolor": "white",
          "polar": {
           "angularaxis": {
            "gridcolor": "#EBF0F8",
            "linecolor": "#EBF0F8",
            "ticks": ""
           },
           "bgcolor": "white",
           "radialaxis": {
            "gridcolor": "#EBF0F8",
            "linecolor": "#EBF0F8",
            "ticks": ""
           }
          },
          "scene": {
           "xaxis": {
            "backgroundcolor": "white",
            "gridcolor": "#DFE8F3",
            "gridwidth": 2,
            "linecolor": "#EBF0F8",
            "showbackground": true,
            "ticks": "",
            "zerolinecolor": "#EBF0F8"
           },
           "yaxis": {
            "backgroundcolor": "white",
            "gridcolor": "#DFE8F3",
            "gridwidth": 2,
            "linecolor": "#EBF0F8",
            "showbackground": true,
            "ticks": "",
            "zerolinecolor": "#EBF0F8"
           },
           "zaxis": {
            "backgroundcolor": "white",
            "gridcolor": "#DFE8F3",
            "gridwidth": 2,
            "linecolor": "#EBF0F8",
            "showbackground": true,
            "ticks": "",
            "zerolinecolor": "#EBF0F8"
           }
          },
          "shapedefaults": {
           "line": {
            "color": "#2a3f5f"
           }
          },
          "ternary": {
           "aaxis": {
            "gridcolor": "#DFE8F3",
            "linecolor": "#A2B1C6",
            "ticks": ""
           },
           "baxis": {
            "gridcolor": "#DFE8F3",
            "linecolor": "#A2B1C6",
            "ticks": ""
           },
           "bgcolor": "white",
           "caxis": {
            "gridcolor": "#DFE8F3",
            "linecolor": "#A2B1C6",
            "ticks": ""
           }
          },
          "title": {
           "x": 0.05
          },
          "xaxis": {
           "automargin": true,
           "gridcolor": "#EBF0F8",
           "linecolor": "#EBF0F8",
           "ticks": "",
           "title": {
            "standoff": 15
           },
           "zerolinecolor": "#EBF0F8",
           "zerolinewidth": 2
          },
          "yaxis": {
           "automargin": true,
           "gridcolor": "#EBF0F8",
           "linecolor": "#EBF0F8",
           "ticks": "",
           "title": {
            "standoff": 15
           },
           "zerolinecolor": "#EBF0F8",
           "zerolinewidth": 2
          }
         }
        },
        "title": {
         "text": "2D PCA Projection",
         "x": 0.5,
         "xanchor": "center"
        },
        "width": 800,
        "xaxis": {
         "anchor": "y",
         "domain": [
          0,
          1
         ],
         "title": {
          "text": "PC1"
         }
        },
        "yaxis": {
         "anchor": "x",
         "domain": [
          0,
          1
         ],
         "title": {
          "text": "PC2"
         }
        }
       }
      }
     },
     "metadata": {},
     "output_type": "display_data"
    },
    {
     "data": {
      "application/vnd.plotly.v1+json": {
       "config": {
        "plotlyServerURL": "https://plot.ly"
       },
       "data": [
        {
         "hovertemplate": "PC1=%{x}<br>PC2=%{y}<br>PC3=%{z}<extra></extra>",
         "legendgroup": "",
         "marker": {
          "color": "#636efa",
          "symbol": "circle"
         },
         "mode": "markers",
         "name": "",
         "scene": "scene",
         "showlegend": false,
         "type": "scatter3d",
         "x": [
          -0.08645885,
          0.13217089,
          0.070935555,
          -0.1166476
         ],
         "y": [
          -0.07678832,
          0.07589318,
          -0.08831008,
          0.08920523
         ],
         "z": [
          0.08905621,
          0.055090956,
          -0.08740729,
          -0.05673988
         ]
        }
       ],
       "layout": {
        "height": 800,
        "legend": {
         "tracegroupgap": 0
        },
        "scene": {
         "aspectmode": "cube",
         "domain": {
          "x": [
           0,
           1
          ],
          "y": [
           0,
           1
          ]
         },
         "xaxis": {
          "title": {
           "text": "First Principal Component"
          }
         },
         "yaxis": {
          "title": {
           "text": "Second Principal Component"
          }
         },
         "zaxis": {
          "title": {
           "text": "Third Principal Component"
          }
         }
        },
        "template": {
         "data": {
          "bar": [
           {
            "error_x": {
             "color": "#2a3f5f"
            },
            "error_y": {
             "color": "#2a3f5f"
            },
            "marker": {
             "line": {
              "color": "white",
              "width": 0.5
             },
             "pattern": {
              "fillmode": "overlay",
              "size": 10,
              "solidity": 0.2
             }
            },
            "type": "bar"
           }
          ],
          "barpolar": [
           {
            "marker": {
             "line": {
              "color": "white",
              "width": 0.5
             },
             "pattern": {
              "fillmode": "overlay",
              "size": 10,
              "solidity": 0.2
             }
            },
            "type": "barpolar"
           }
          ],
          "carpet": [
           {
            "aaxis": {
             "endlinecolor": "#2a3f5f",
             "gridcolor": "#C8D4E3",
             "linecolor": "#C8D4E3",
             "minorgridcolor": "#C8D4E3",
             "startlinecolor": "#2a3f5f"
            },
            "baxis": {
             "endlinecolor": "#2a3f5f",
             "gridcolor": "#C8D4E3",
             "linecolor": "#C8D4E3",
             "minorgridcolor": "#C8D4E3",
             "startlinecolor": "#2a3f5f"
            },
            "type": "carpet"
           }
          ],
          "choropleth": [
           {
            "colorbar": {
             "outlinewidth": 0,
             "ticks": ""
            },
            "type": "choropleth"
           }
          ],
          "contour": [
           {
            "colorbar": {
             "outlinewidth": 0,
             "ticks": ""
            },
            "colorscale": [
             [
              0,
              "#0d0887"
             ],
             [
              0.1111111111111111,
              "#46039f"
             ],
             [
              0.2222222222222222,
              "#7201a8"
             ],
             [
              0.3333333333333333,
              "#9c179e"
             ],
             [
              0.4444444444444444,
              "#bd3786"
             ],
             [
              0.5555555555555556,
              "#d8576b"
             ],
             [
              0.6666666666666666,
              "#ed7953"
             ],
             [
              0.7777777777777778,
              "#fb9f3a"
             ],
             [
              0.8888888888888888,
              "#fdca26"
             ],
             [
              1,
              "#f0f921"
             ]
            ],
            "type": "contour"
           }
          ],
          "contourcarpet": [
           {
            "colorbar": {
             "outlinewidth": 0,
             "ticks": ""
            },
            "type": "contourcarpet"
           }
          ],
          "heatmap": [
           {
            "colorbar": {
             "outlinewidth": 0,
             "ticks": ""
            },
            "colorscale": [
             [
              0,
              "#0d0887"
             ],
             [
              0.1111111111111111,
              "#46039f"
             ],
             [
              0.2222222222222222,
              "#7201a8"
             ],
             [
              0.3333333333333333,
              "#9c179e"
             ],
             [
              0.4444444444444444,
              "#bd3786"
             ],
             [
              0.5555555555555556,
              "#d8576b"
             ],
             [
              0.6666666666666666,
              "#ed7953"
             ],
             [
              0.7777777777777778,
              "#fb9f3a"
             ],
             [
              0.8888888888888888,
              "#fdca26"
             ],
             [
              1,
              "#f0f921"
             ]
            ],
            "type": "heatmap"
           }
          ],
          "heatmapgl": [
           {
            "colorbar": {
             "outlinewidth": 0,
             "ticks": ""
            },
            "colorscale": [
             [
              0,
              "#0d0887"
             ],
             [
              0.1111111111111111,
              "#46039f"
             ],
             [
              0.2222222222222222,
              "#7201a8"
             ],
             [
              0.3333333333333333,
              "#9c179e"
             ],
             [
              0.4444444444444444,
              "#bd3786"
             ],
             [
              0.5555555555555556,
              "#d8576b"
             ],
             [
              0.6666666666666666,
              "#ed7953"
             ],
             [
              0.7777777777777778,
              "#fb9f3a"
             ],
             [
              0.8888888888888888,
              "#fdca26"
             ],
             [
              1,
              "#f0f921"
             ]
            ],
            "type": "heatmapgl"
           }
          ],
          "histogram": [
           {
            "marker": {
             "pattern": {
              "fillmode": "overlay",
              "size": 10,
              "solidity": 0.2
             }
            },
            "type": "histogram"
           }
          ],
          "histogram2d": [
           {
            "colorbar": {
             "outlinewidth": 0,
             "ticks": ""
            },
            "colorscale": [
             [
              0,
              "#0d0887"
             ],
             [
              0.1111111111111111,
              "#46039f"
             ],
             [
              0.2222222222222222,
              "#7201a8"
             ],
             [
              0.3333333333333333,
              "#9c179e"
             ],
             [
              0.4444444444444444,
              "#bd3786"
             ],
             [
              0.5555555555555556,
              "#d8576b"
             ],
             [
              0.6666666666666666,
              "#ed7953"
             ],
             [
              0.7777777777777778,
              "#fb9f3a"
             ],
             [
              0.8888888888888888,
              "#fdca26"
             ],
             [
              1,
              "#f0f921"
             ]
            ],
            "type": "histogram2d"
           }
          ],
          "histogram2dcontour": [
           {
            "colorbar": {
             "outlinewidth": 0,
             "ticks": ""
            },
            "colorscale": [
             [
              0,
              "#0d0887"
             ],
             [
              0.1111111111111111,
              "#46039f"
             ],
             [
              0.2222222222222222,
              "#7201a8"
             ],
             [
              0.3333333333333333,
              "#9c179e"
             ],
             [
              0.4444444444444444,
              "#bd3786"
             ],
             [
              0.5555555555555556,
              "#d8576b"
             ],
             [
              0.6666666666666666,
              "#ed7953"
             ],
             [
              0.7777777777777778,
              "#fb9f3a"
             ],
             [
              0.8888888888888888,
              "#fdca26"
             ],
             [
              1,
              "#f0f921"
             ]
            ],
            "type": "histogram2dcontour"
           }
          ],
          "mesh3d": [
           {
            "colorbar": {
             "outlinewidth": 0,
             "ticks": ""
            },
            "type": "mesh3d"
           }
          ],
          "parcoords": [
           {
            "line": {
             "colorbar": {
              "outlinewidth": 0,
              "ticks": ""
             }
            },
            "type": "parcoords"
           }
          ],
          "pie": [
           {
            "automargin": true,
            "type": "pie"
           }
          ],
          "scatter": [
           {
            "fillpattern": {
             "fillmode": "overlay",
             "size": 10,
             "solidity": 0.2
            },
            "type": "scatter"
           }
          ],
          "scatter3d": [
           {
            "line": {
             "colorbar": {
              "outlinewidth": 0,
              "ticks": ""
             }
            },
            "marker": {
             "colorbar": {
              "outlinewidth": 0,
              "ticks": ""
             }
            },
            "type": "scatter3d"
           }
          ],
          "scattercarpet": [
           {
            "marker": {
             "colorbar": {
              "outlinewidth": 0,
              "ticks": ""
             }
            },
            "type": "scattercarpet"
           }
          ],
          "scattergeo": [
           {
            "marker": {
             "colorbar": {
              "outlinewidth": 0,
              "ticks": ""
             }
            },
            "type": "scattergeo"
           }
          ],
          "scattergl": [
           {
            "marker": {
             "colorbar": {
              "outlinewidth": 0,
              "ticks": ""
             }
            },
            "type": "scattergl"
           }
          ],
          "scattermapbox": [
           {
            "marker": {
             "colorbar": {
              "outlinewidth": 0,
              "ticks": ""
             }
            },
            "type": "scattermapbox"
           }
          ],
          "scatterpolar": [
           {
            "marker": {
             "colorbar": {
              "outlinewidth": 0,
              "ticks": ""
             }
            },
            "type": "scatterpolar"
           }
          ],
          "scatterpolargl": [
           {
            "marker": {
             "colorbar": {
              "outlinewidth": 0,
              "ticks": ""
             }
            },
            "type": "scatterpolargl"
           }
          ],
          "scatterternary": [
           {
            "marker": {
             "colorbar": {
              "outlinewidth": 0,
              "ticks": ""
             }
            },
            "type": "scatterternary"
           }
          ],
          "surface": [
           {
            "colorbar": {
             "outlinewidth": 0,
             "ticks": ""
            },
            "colorscale": [
             [
              0,
              "#0d0887"
             ],
             [
              0.1111111111111111,
              "#46039f"
             ],
             [
              0.2222222222222222,
              "#7201a8"
             ],
             [
              0.3333333333333333,
              "#9c179e"
             ],
             [
              0.4444444444444444,
              "#bd3786"
             ],
             [
              0.5555555555555556,
              "#d8576b"
             ],
             [
              0.6666666666666666,
              "#ed7953"
             ],
             [
              0.7777777777777778,
              "#fb9f3a"
             ],
             [
              0.8888888888888888,
              "#fdca26"
             ],
             [
              1,
              "#f0f921"
             ]
            ],
            "type": "surface"
           }
          ],
          "table": [
           {
            "cells": {
             "fill": {
              "color": "#EBF0F8"
             },
             "line": {
              "color": "white"
             }
            },
            "header": {
             "fill": {
              "color": "#C8D4E3"
             },
             "line": {
              "color": "white"
             }
            },
            "type": "table"
           }
          ]
         },
         "layout": {
          "annotationdefaults": {
           "arrowcolor": "#2a3f5f",
           "arrowhead": 0,
           "arrowwidth": 1
          },
          "autotypenumbers": "strict",
          "coloraxis": {
           "colorbar": {
            "outlinewidth": 0,
            "ticks": ""
           }
          },
          "colorscale": {
           "diverging": [
            [
             0,
             "#8e0152"
            ],
            [
             0.1,
             "#c51b7d"
            ],
            [
             0.2,
             "#de77ae"
            ],
            [
             0.3,
             "#f1b6da"
            ],
            [
             0.4,
             "#fde0ef"
            ],
            [
             0.5,
             "#f7f7f7"
            ],
            [
             0.6,
             "#e6f5d0"
            ],
            [
             0.7,
             "#b8e186"
            ],
            [
             0.8,
             "#7fbc41"
            ],
            [
             0.9,
             "#4d9221"
            ],
            [
             1,
             "#276419"
            ]
           ],
           "sequential": [
            [
             0,
             "#0d0887"
            ],
            [
             0.1111111111111111,
             "#46039f"
            ],
            [
             0.2222222222222222,
             "#7201a8"
            ],
            [
             0.3333333333333333,
             "#9c179e"
            ],
            [
             0.4444444444444444,
             "#bd3786"
            ],
            [
             0.5555555555555556,
             "#d8576b"
            ],
            [
             0.6666666666666666,
             "#ed7953"
            ],
            [
             0.7777777777777778,
             "#fb9f3a"
            ],
            [
             0.8888888888888888,
             "#fdca26"
            ],
            [
             1,
             "#f0f921"
            ]
           ],
           "sequentialminus": [
            [
             0,
             "#0d0887"
            ],
            [
             0.1111111111111111,
             "#46039f"
            ],
            [
             0.2222222222222222,
             "#7201a8"
            ],
            [
             0.3333333333333333,
             "#9c179e"
            ],
            [
             0.4444444444444444,
             "#bd3786"
            ],
            [
             0.5555555555555556,
             "#d8576b"
            ],
            [
             0.6666666666666666,
             "#ed7953"
            ],
            [
             0.7777777777777778,
             "#fb9f3a"
            ],
            [
             0.8888888888888888,
             "#fdca26"
            ],
            [
             1,
             "#f0f921"
            ]
           ]
          },
          "colorway": [
           "#636efa",
           "#EF553B",
           "#00cc96",
           "#ab63fa",
           "#FFA15A",
           "#19d3f3",
           "#FF6692",
           "#B6E880",
           "#FF97FF",
           "#FECB52"
          ],
          "font": {
           "color": "#2a3f5f"
          },
          "geo": {
           "bgcolor": "white",
           "lakecolor": "white",
           "landcolor": "white",
           "showlakes": true,
           "showland": true,
           "subunitcolor": "#C8D4E3"
          },
          "hoverlabel": {
           "align": "left"
          },
          "hovermode": "closest",
          "mapbox": {
           "style": "light"
          },
          "paper_bgcolor": "white",
          "plot_bgcolor": "white",
          "polar": {
           "angularaxis": {
            "gridcolor": "#EBF0F8",
            "linecolor": "#EBF0F8",
            "ticks": ""
           },
           "bgcolor": "white",
           "radialaxis": {
            "gridcolor": "#EBF0F8",
            "linecolor": "#EBF0F8",
            "ticks": ""
           }
          },
          "scene": {
           "xaxis": {
            "backgroundcolor": "white",
            "gridcolor": "#DFE8F3",
            "gridwidth": 2,
            "linecolor": "#EBF0F8",
            "showbackground": true,
            "ticks": "",
            "zerolinecolor": "#EBF0F8"
           },
           "yaxis": {
            "backgroundcolor": "white",
            "gridcolor": "#DFE8F3",
            "gridwidth": 2,
            "linecolor": "#EBF0F8",
            "showbackground": true,
            "ticks": "",
            "zerolinecolor": "#EBF0F8"
           },
           "zaxis": {
            "backgroundcolor": "white",
            "gridcolor": "#DFE8F3",
            "gridwidth": 2,
            "linecolor": "#EBF0F8",
            "showbackground": true,
            "ticks": "",
            "zerolinecolor": "#EBF0F8"
           }
          },
          "shapedefaults": {
           "line": {
            "color": "#2a3f5f"
           }
          },
          "ternary": {
           "aaxis": {
            "gridcolor": "#DFE8F3",
            "linecolor": "#A2B1C6",
            "ticks": ""
           },
           "baxis": {
            "gridcolor": "#DFE8F3",
            "linecolor": "#A2B1C6",
            "ticks": ""
           },
           "bgcolor": "white",
           "caxis": {
            "gridcolor": "#DFE8F3",
            "linecolor": "#A2B1C6",
            "ticks": ""
           }
          },
          "title": {
           "x": 0.05
          },
          "xaxis": {
           "automargin": true,
           "gridcolor": "#EBF0F8",
           "linecolor": "#EBF0F8",
           "ticks": "",
           "title": {
            "standoff": 15
           },
           "zerolinecolor": "#EBF0F8",
           "zerolinewidth": 2
          },
          "yaxis": {
           "automargin": true,
           "gridcolor": "#EBF0F8",
           "linecolor": "#EBF0F8",
           "ticks": "",
           "title": {
            "standoff": 15
           },
           "zerolinecolor": "#EBF0F8",
           "zerolinewidth": 2
          }
         }
        },
        "title": {
         "text": "3D PCA Projection",
         "x": 0.5,
         "xanchor": "center"
        },
        "width": 800
       }
      }
     },
     "metadata": {},
     "output_type": "display_data"
    }
   ],
   "source": [
    "projected_data_2d, eigenvalues = pca_projection(W1_adj[16:19], n_components=2)\n",
    "visualize_pca(projected_data_2d, \"2D PCA Projection\")\n",
    "projected_data_3d, eigenvalues = pca_projection(W1_adj[16:20], n_components=3)\n",
    "visualize_pca(projected_data_3d, \"3D PCA Projection\")\n"
   ]
  }
 ],
 "metadata": {
  "kernelspec": {
   "display_name": "Python 3",
   "language": "python",
   "name": "python3"
  },
  "language_info": {
   "codemirror_mode": {
    "name": "ipython",
    "version": 3
   },
   "file_extension": ".py",
   "mimetype": "text/x-python",
   "name": "python",
   "nbconvert_exporter": "python",
   "pygments_lexer": "ipython3",
   "version": "3.12.2"
  }
 },
 "nbformat": 4,
 "nbformat_minor": 2
}
